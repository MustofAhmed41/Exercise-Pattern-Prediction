{
  "nbformat": 4,
  "nbformat_minor": 0,
  "metadata": {
    "colab": {
      "name": "Exercise Pattern Prediction.ipynb",
      "provenance": [],
      "collapsed_sections": [],
      "include_colab_link": true
    },
    "kernelspec": {
      "name": "python3",
      "display_name": "Python 3"
    },
    "language_info": {
      "name": "python"
    }
  },
  "cells": [
    {
      "cell_type": "markdown",
      "metadata": {
        "id": "view-in-github",
        "colab_type": "text"
      },
      "source": [
        "<a href=\"https://colab.research.google.com/github/MustofAhmed41/Exercise-Pattern-Prediction/blob/master/Exercise_Pattern_Prediction_7.ipynb\" target=\"_parent\"><img src=\"https://colab.research.google.com/assets/colab-badge.svg\" alt=\"Open In Colab\"/></a>"
      ]
    },
    {
      "cell_type": "markdown",
      "source": [
        "### Importing Library"
      ],
      "metadata": {
        "id": "_3mWhU59cbu-"
      }
    },
    {
      "cell_type": "code",
      "source": [
        "import pandas as pd  \n",
        "import seaborn as sns  \n",
        "import numpy as np  \n",
        "import matplotlib.pyplot as plt"
      ],
      "metadata": {
        "id": "M7Wt9qDEPaHT"
      },
      "execution_count": 174,
      "outputs": []
    },
    {
      "cell_type": "code",
      "execution_count": 175,
      "metadata": {
        "colab": {
          "base_uri": "https://localhost:8080/"
        },
        "id": "5P3PfNvqOwd_",
        "outputId": "f9b3f9fc-6dbc-4c40-e7f5-e52403f70820"
      },
      "outputs": [
        {
          "output_type": "stream",
          "name": "stdout",
          "text": [
            "Drive already mounted at /content/drive; to attempt to forcibly remount, call drive.mount(\"/content/drive\", force_remount=True).\n"
          ]
        }
      ],
      "source": [
        "from google.colab import drive\n",
        "drive.mount('/content/drive')"
      ]
    },
    {
      "cell_type": "code",
      "source": [
        "cd'/content/drive/MyDrive/Colab Notebooks/Dataset/Softcom Assignment 1'"
      ],
      "metadata": {
        "colab": {
          "base_uri": "https://localhost:8080/"
        },
        "id": "okeTIYSDPHu0",
        "outputId": "c0196a1a-d7c2-4b69-d455-3b7ad2adbc76"
      },
      "execution_count": 176,
      "outputs": [
        {
          "output_type": "stream",
          "name": "stdout",
          "text": [
            "/content/drive/MyDrive/Colab Notebooks/Dataset/Softcom Assignment 1\n"
          ]
        }
      ]
    },
    {
      "cell_type": "markdown",
      "source": [
        "### Loading Data"
      ],
      "metadata": {
        "id": "DGfB74Tzcnf8"
      }
    },
    {
      "cell_type": "code",
      "source": [
        "#df = pd.read_excel('pml-training.xlsx', index_col=False).drop('Row Number', axis=1).reset_index(drop=True)\n",
        "df = pd.read_excel('exercise_full_dataset.xlsx').reset_index(drop=True)"
      ],
      "metadata": {
        "id": "jJBRdeciPIAx"
      },
      "execution_count": 177,
      "outputs": []
    },
    {
      "cell_type": "code",
      "source": [
        "print('Column Name', '  No of Missing Values')\n",
        "for i in zip(df.columns, df.isna().sum()):\n",
        "  print(i[0], '\\t\\t', i[1])"
      ],
      "metadata": {
        "colab": {
          "base_uri": "https://localhost:8080/"
        },
        "id": "TxLCUVzRhAUx",
        "outputId": "d710bd91-e79e-4d62-bc38-240cd0bc91c3"
      },
      "execution_count": 178,
      "outputs": [
        {
          "output_type": "stream",
          "name": "stdout",
          "text": [
            "Column Name   No of Missing Values\n",
            "user_name \t\t 0\n",
            "raw_timestamp_part_1 \t\t 0\n",
            "raw_timestamp_part_2 \t\t 0\n",
            "cvtd_timestamp \t\t 0\n",
            "new_window \t\t 0\n",
            "num_window \t\t 0\n",
            "roll_belt \t\t 0\n",
            "pitch_belt \t\t 0\n",
            "yaw_belt \t\t 0\n",
            "total_accel_belt \t\t 0\n",
            "kurtosis_roll_belt \t\t 38435\n",
            "kurtosis_picth_belt \t\t 38475\n",
            "kurtosis_yaw_belt \t\t 39242\n",
            "skewness_roll_belt \t\t 38434\n",
            "skewness_roll_belt.1 \t\t 38475\n",
            "skewness_yaw_belt \t\t 39242\n",
            "max_roll_belt \t\t 38403\n",
            "max_picth_belt \t\t 38403\n",
            "max_yaw_belt \t\t 38435\n",
            "min_roll_belt \t\t 38403\n",
            "min_pitch_belt \t\t 38403\n",
            "min_yaw_belt \t\t 38435\n",
            "amplitude_roll_belt \t\t 38403\n",
            "amplitude_pitch_belt \t\t 38403\n",
            "amplitude_yaw_belt \t\t 38435\n",
            "var_total_accel_belt \t\t 38403\n",
            "avg_roll_belt \t\t 38402\n",
            "stddev_roll_belt \t\t 38403\n",
            "var_roll_belt \t\t 38403\n",
            "avg_pitch_belt \t\t 38403\n",
            "stddev_pitch_belt \t\t 38403\n",
            "var_pitch_belt \t\t 38403\n",
            "avg_yaw_belt \t\t 38403\n",
            "stddev_yaw_belt \t\t 38403\n",
            "var_yaw_belt \t\t 38403\n",
            "gyros_belt_x \t\t 0\n",
            "gyros_belt_y \t\t 0\n",
            "gyros_belt_z \t\t 0\n",
            "accel_belt_x \t\t 0\n",
            "accel_belt_y \t\t 0\n",
            "accel_belt_z \t\t 0\n",
            "magnet_belt_x \t\t 0\n",
            "magnet_belt_y \t\t 0\n",
            "magnet_belt_z \t\t 0\n",
            "roll_arm \t\t 0\n",
            "pitch_arm \t\t 0\n",
            "yaw_arm \t\t 0\n",
            "total_accel_arm \t\t 0\n",
            "var_accel_arm \t\t 38403\n",
            "avg_roll_arm \t\t 38403\n",
            "stddev_roll_arm \t\t 38403\n",
            "var_roll_arm \t\t 38403\n",
            "avg_pitch_arm \t\t 38403\n",
            "stddev_pitch_arm \t\t 38403\n",
            "var_pitch_arm \t\t 38403\n",
            "avg_yaw_arm \t\t 38403\n",
            "stddev_yaw_arm \t\t 38403\n",
            "var_yaw_arm \t\t 38403\n",
            "gyros_arm_x \t\t 0\n",
            "gyros_arm_y \t\t 0\n",
            "gyros_arm_z \t\t 0\n",
            "accel_arm_x \t\t 0\n",
            "accel_arm_y \t\t 0\n",
            "accel_arm_z \t\t 0\n",
            "magnet_arm_x \t\t 0\n",
            "magnet_arm_y \t\t 0\n",
            "magnet_arm_z \t\t 0\n",
            "kurtosis_roll_arm \t\t 38548\n",
            "kurtosis_picth_arm \t\t 38554\n",
            "kurtosis_yaw_arm \t\t 38431\n",
            "skewness_roll_arm \t\t 38547\n",
            "skewness_pitch_arm \t\t 38554\n",
            "skewness_yaw_arm \t\t 38431\n",
            "max_roll_arm \t\t 38403\n",
            "max_picth_arm \t\t 38403\n",
            "max_yaw_arm \t\t 38403\n",
            "min_roll_arm \t\t 38403\n",
            "min_pitch_arm \t\t 38403\n",
            "min_yaw_arm \t\t 38403\n",
            "amplitude_roll_arm \t\t 38403\n",
            "amplitude_pitch_arm \t\t 38403\n",
            "amplitude_yaw_arm \t\t 38403\n",
            "roll_dumbbell \t\t 1\n",
            "pitch_dumbbell \t\t 0\n",
            "yaw_dumbbell \t\t 0\n",
            "kurtosis_roll_dumbbell \t\t 38412\n",
            "kurtosis_picth_dumbbell \t\t 38407\n",
            "kurtosis_yaw_dumbbell \t\t 39242\n",
            "skewness_roll_dumbbell \t\t 38411\n",
            "skewness_pitch_dumbbell \t\t 38406\n",
            "skewness_yaw_dumbbell \t\t 39242\n",
            "max_roll_dumbbell \t\t 38403\n",
            "max_picth_dumbbell \t\t 38403\n",
            "max_yaw_dumbbell \t\t 38412\n",
            "min_roll_dumbbell \t\t 38403\n",
            "min_pitch_dumbbell \t\t 38403\n",
            "min_yaw_dumbbell \t\t 38412\n",
            "amplitude_roll_dumbbell \t\t 38403\n",
            "amplitude_pitch_dumbbell \t\t 38403\n",
            "amplitude_yaw_dumbbell \t\t 38412\n",
            "total_accel_dumbbell \t\t 0\n",
            "var_accel_dumbbell \t\t 38403\n",
            "avg_roll_dumbbell \t\t 38403\n",
            "stddev_roll_dumbbell \t\t 38403\n",
            "var_roll_dumbbell \t\t 38403\n",
            "avg_pitch_dumbbell \t\t 38403\n",
            "stddev_pitch_dumbbell \t\t 38403\n",
            "var_pitch_dumbbell \t\t 38403\n",
            "avg_yaw_dumbbell \t\t 38403\n",
            "stddev_yaw_dumbbell \t\t 38403\n",
            "var_yaw_dumbbell \t\t 38403\n",
            "gyros_dumbbell_x \t\t 0\n",
            "gyros_dumbbell_y \t\t 0\n",
            "gyros_dumbbell_z \t\t 0\n",
            "accel_dumbbell_x \t\t 0\n",
            "accel_dumbbell_y \t\t 0\n",
            "accel_dumbbell_z \t\t 0\n",
            "magnet_dumbbell_x \t\t 0\n",
            "magnet_dumbbell_y \t\t 0\n",
            "magnet_dumbbell_z \t\t 0\n",
            "roll_forearm \t\t 0\n",
            "pitch_forearm \t\t 0\n",
            "yaw_forearm \t\t 0\n",
            "kurtosis_roll_forearm \t\t 38581\n",
            "kurtosis_picth_forearm \t\t 38584\n",
            "kurtosis_yaw_forearm \t\t 39242\n",
            "skewness_roll_forearm \t\t 38580\n",
            "skewness_pitch_forearm \t\t 38584\n",
            "skewness_yaw_forearm \t\t 39242\n",
            "max_roll_forearm \t\t 38403\n",
            "max_picth_forearm \t\t 38403\n",
            "max_yaw_forearm \t\t 38581\n",
            "min_roll_forearm \t\t 38403\n",
            "min_pitch_forearm \t\t 38403\n",
            "min_yaw_forearm \t\t 38581\n",
            "amplitude_roll_forearm \t\t 38403\n",
            "amplitude_pitch_forearm \t\t 38403\n",
            "amplitude_yaw_forearm \t\t 38581\n",
            "total_accel_forearm \t\t 0\n",
            "var_accel_forearm \t\t 38403\n",
            "avg_roll_forearm \t\t 38403\n",
            "stddev_roll_forearm \t\t 38403\n",
            "var_roll_forearm \t\t 38403\n",
            "avg_pitch_forearm \t\t 38403\n",
            "stddev_pitch_forearm \t\t 38403\n",
            "var_pitch_forearm \t\t 38403\n",
            "avg_yaw_forearm \t\t 38403\n",
            "stddev_yaw_forearm \t\t 38403\n",
            "var_yaw_forearm \t\t 38403\n",
            "gyros_forearm_x \t\t 0\n",
            "gyros_forearm_y \t\t 0\n",
            "gyros_forearm_z \t\t 0\n",
            "accel_forearm_x \t\t 0\n",
            "accel_forearm_y \t\t 0\n",
            "accel_forearm_z \t\t 0\n",
            "magnet_forearm_x \t\t 0\n",
            "magnet_forearm_y \t\t 0\n",
            "magnet_forearm_z \t\t 0\n",
            "classe \t\t 0\n"
          ]
        }
      ]
    },
    {
      "cell_type": "code",
      "source": [
        "df.head(3)"
      ],
      "metadata": {
        "colab": {
          "base_uri": "https://localhost:8080/",
          "height": 237
        },
        "id": "yseeHJMxPkjW",
        "outputId": "b1b695b9-a844-4a4e-9a18-802867125549"
      },
      "execution_count": 179,
      "outputs": [
        {
          "output_type": "execute_result",
          "data": {
            "text/plain": [
              "  user_name  raw_timestamp_part_1  raw_timestamp_part_2    cvtd_timestamp  \\\n",
              "0    eurico            1322489729                 34670  28/11/2011 14:15   \n",
              "1    eurico            1322489729                 62641  28/11/2011 14:15   \n",
              "2    eurico            1322489729                 70653  28/11/2011 14:15   \n",
              "\n",
              "  new_window  num_window  roll_belt  pitch_belt  yaw_belt  total_accel_belt  \\\n",
              "0         no           1       3.70        41.6     -82.8                 3   \n",
              "1         no           1       3.66        42.8     -82.5                 2   \n",
              "2         no           1       3.58        43.7     -82.3                 1   \n",
              "\n",
              "   ...  gyros_forearm_x  gyros_forearm_y  gyros_forearm_z  accel_forearm_x  \\\n",
              "0  ...            -0.05            -0.37            -0.43           -170.0   \n",
              "1  ...            -0.06            -0.37            -0.59           -178.0   \n",
              "2  ...            -0.05            -0.27            -0.72           -182.0   \n",
              "\n",
              "   accel_forearm_y  accel_forearm_z  magnet_forearm_x  magnet_forearm_y  \\\n",
              "0            155.0              184           -1160.0            1400.0   \n",
              "1            164.0              182           -1150.0            1410.0   \n",
              "2            172.0              185           -1130.0            1400.0   \n",
              "\n",
              "   magnet_forearm_z  classe  \n",
              "0            -876.0       E  \n",
              "1            -871.0       E  \n",
              "2            -863.0       E  \n",
              "\n",
              "[3 rows x 159 columns]"
            ],
            "text/html": [
              "\n",
              "  <div id=\"df-b972ffd0-88fc-4175-8469-93d9701da9c8\">\n",
              "    <div class=\"colab-df-container\">\n",
              "      <div>\n",
              "<style scoped>\n",
              "    .dataframe tbody tr th:only-of-type {\n",
              "        vertical-align: middle;\n",
              "    }\n",
              "\n",
              "    .dataframe tbody tr th {\n",
              "        vertical-align: top;\n",
              "    }\n",
              "\n",
              "    .dataframe thead th {\n",
              "        text-align: right;\n",
              "    }\n",
              "</style>\n",
              "<table border=\"1\" class=\"dataframe\">\n",
              "  <thead>\n",
              "    <tr style=\"text-align: right;\">\n",
              "      <th></th>\n",
              "      <th>user_name</th>\n",
              "      <th>raw_timestamp_part_1</th>\n",
              "      <th>raw_timestamp_part_2</th>\n",
              "      <th>cvtd_timestamp</th>\n",
              "      <th>new_window</th>\n",
              "      <th>num_window</th>\n",
              "      <th>roll_belt</th>\n",
              "      <th>pitch_belt</th>\n",
              "      <th>yaw_belt</th>\n",
              "      <th>total_accel_belt</th>\n",
              "      <th>...</th>\n",
              "      <th>gyros_forearm_x</th>\n",
              "      <th>gyros_forearm_y</th>\n",
              "      <th>gyros_forearm_z</th>\n",
              "      <th>accel_forearm_x</th>\n",
              "      <th>accel_forearm_y</th>\n",
              "      <th>accel_forearm_z</th>\n",
              "      <th>magnet_forearm_x</th>\n",
              "      <th>magnet_forearm_y</th>\n",
              "      <th>magnet_forearm_z</th>\n",
              "      <th>classe</th>\n",
              "    </tr>\n",
              "  </thead>\n",
              "  <tbody>\n",
              "    <tr>\n",
              "      <th>0</th>\n",
              "      <td>eurico</td>\n",
              "      <td>1322489729</td>\n",
              "      <td>34670</td>\n",
              "      <td>28/11/2011 14:15</td>\n",
              "      <td>no</td>\n",
              "      <td>1</td>\n",
              "      <td>3.70</td>\n",
              "      <td>41.6</td>\n",
              "      <td>-82.8</td>\n",
              "      <td>3</td>\n",
              "      <td>...</td>\n",
              "      <td>-0.05</td>\n",
              "      <td>-0.37</td>\n",
              "      <td>-0.43</td>\n",
              "      <td>-170.0</td>\n",
              "      <td>155.0</td>\n",
              "      <td>184</td>\n",
              "      <td>-1160.0</td>\n",
              "      <td>1400.0</td>\n",
              "      <td>-876.0</td>\n",
              "      <td>E</td>\n",
              "    </tr>\n",
              "    <tr>\n",
              "      <th>1</th>\n",
              "      <td>eurico</td>\n",
              "      <td>1322489729</td>\n",
              "      <td>62641</td>\n",
              "      <td>28/11/2011 14:15</td>\n",
              "      <td>no</td>\n",
              "      <td>1</td>\n",
              "      <td>3.66</td>\n",
              "      <td>42.8</td>\n",
              "      <td>-82.5</td>\n",
              "      <td>2</td>\n",
              "      <td>...</td>\n",
              "      <td>-0.06</td>\n",
              "      <td>-0.37</td>\n",
              "      <td>-0.59</td>\n",
              "      <td>-178.0</td>\n",
              "      <td>164.0</td>\n",
              "      <td>182</td>\n",
              "      <td>-1150.0</td>\n",
              "      <td>1410.0</td>\n",
              "      <td>-871.0</td>\n",
              "      <td>E</td>\n",
              "    </tr>\n",
              "    <tr>\n",
              "      <th>2</th>\n",
              "      <td>eurico</td>\n",
              "      <td>1322489729</td>\n",
              "      <td>70653</td>\n",
              "      <td>28/11/2011 14:15</td>\n",
              "      <td>no</td>\n",
              "      <td>1</td>\n",
              "      <td>3.58</td>\n",
              "      <td>43.7</td>\n",
              "      <td>-82.3</td>\n",
              "      <td>1</td>\n",
              "      <td>...</td>\n",
              "      <td>-0.05</td>\n",
              "      <td>-0.27</td>\n",
              "      <td>-0.72</td>\n",
              "      <td>-182.0</td>\n",
              "      <td>172.0</td>\n",
              "      <td>185</td>\n",
              "      <td>-1130.0</td>\n",
              "      <td>1400.0</td>\n",
              "      <td>-863.0</td>\n",
              "      <td>E</td>\n",
              "    </tr>\n",
              "  </tbody>\n",
              "</table>\n",
              "<p>3 rows × 159 columns</p>\n",
              "</div>\n",
              "      <button class=\"colab-df-convert\" onclick=\"convertToInteractive('df-b972ffd0-88fc-4175-8469-93d9701da9c8')\"\n",
              "              title=\"Convert this dataframe to an interactive table.\"\n",
              "              style=\"display:none;\">\n",
              "        \n",
              "  <svg xmlns=\"http://www.w3.org/2000/svg\" height=\"24px\"viewBox=\"0 0 24 24\"\n",
              "       width=\"24px\">\n",
              "    <path d=\"M0 0h24v24H0V0z\" fill=\"none\"/>\n",
              "    <path d=\"M18.56 5.44l.94 2.06.94-2.06 2.06-.94-2.06-.94-.94-2.06-.94 2.06-2.06.94zm-11 1L8.5 8.5l.94-2.06 2.06-.94-2.06-.94L8.5 2.5l-.94 2.06-2.06.94zm10 10l.94 2.06.94-2.06 2.06-.94-2.06-.94-.94-2.06-.94 2.06-2.06.94z\"/><path d=\"M17.41 7.96l-1.37-1.37c-.4-.4-.92-.59-1.43-.59-.52 0-1.04.2-1.43.59L10.3 9.45l-7.72 7.72c-.78.78-.78 2.05 0 2.83L4 21.41c.39.39.9.59 1.41.59.51 0 1.02-.2 1.41-.59l7.78-7.78 2.81-2.81c.8-.78.8-2.07 0-2.86zM5.41 20L4 18.59l7.72-7.72 1.47 1.35L5.41 20z\"/>\n",
              "  </svg>\n",
              "      </button>\n",
              "      \n",
              "  <style>\n",
              "    .colab-df-container {\n",
              "      display:flex;\n",
              "      flex-wrap:wrap;\n",
              "      gap: 12px;\n",
              "    }\n",
              "\n",
              "    .colab-df-convert {\n",
              "      background-color: #E8F0FE;\n",
              "      border: none;\n",
              "      border-radius: 50%;\n",
              "      cursor: pointer;\n",
              "      display: none;\n",
              "      fill: #1967D2;\n",
              "      height: 32px;\n",
              "      padding: 0 0 0 0;\n",
              "      width: 32px;\n",
              "    }\n",
              "\n",
              "    .colab-df-convert:hover {\n",
              "      background-color: #E2EBFA;\n",
              "      box-shadow: 0px 1px 2px rgba(60, 64, 67, 0.3), 0px 1px 3px 1px rgba(60, 64, 67, 0.15);\n",
              "      fill: #174EA6;\n",
              "    }\n",
              "\n",
              "    [theme=dark] .colab-df-convert {\n",
              "      background-color: #3B4455;\n",
              "      fill: #D2E3FC;\n",
              "    }\n",
              "\n",
              "    [theme=dark] .colab-df-convert:hover {\n",
              "      background-color: #434B5C;\n",
              "      box-shadow: 0px 1px 3px 1px rgba(0, 0, 0, 0.15);\n",
              "      filter: drop-shadow(0px 1px 2px rgba(0, 0, 0, 0.3));\n",
              "      fill: #FFFFFF;\n",
              "    }\n",
              "  </style>\n",
              "\n",
              "      <script>\n",
              "        const buttonEl =\n",
              "          document.querySelector('#df-b972ffd0-88fc-4175-8469-93d9701da9c8 button.colab-df-convert');\n",
              "        buttonEl.style.display =\n",
              "          google.colab.kernel.accessAllowed ? 'block' : 'none';\n",
              "\n",
              "        async function convertToInteractive(key) {\n",
              "          const element = document.querySelector('#df-b972ffd0-88fc-4175-8469-93d9701da9c8');\n",
              "          const dataTable =\n",
              "            await google.colab.kernel.invokeFunction('convertToInteractive',\n",
              "                                                     [key], {});\n",
              "          if (!dataTable) return;\n",
              "\n",
              "          const docLinkHtml = 'Like what you see? Visit the ' +\n",
              "            '<a target=\"_blank\" href=https://colab.research.google.com/notebooks/data_table.ipynb>data table notebook</a>'\n",
              "            + ' to learn more about interactive tables.';\n",
              "          element.innerHTML = '';\n",
              "          dataTable['output_type'] = 'display_data';\n",
              "          await google.colab.output.renderOutput(dataTable, element);\n",
              "          const docLink = document.createElement('div');\n",
              "          docLink.innerHTML = docLinkHtml;\n",
              "          element.appendChild(docLink);\n",
              "        }\n",
              "      </script>\n",
              "    </div>\n",
              "  </div>\n",
              "  "
            ]
          },
          "metadata": {},
          "execution_count": 179
        }
      ]
    },
    {
      "cell_type": "code",
      "source": [
        "df.info()"
      ],
      "metadata": {
        "colab": {
          "base_uri": "https://localhost:8080/"
        },
        "id": "qOqo8wtFQSPi",
        "outputId": "2210c294-9bb9-4093-b167-6f055dce53c2"
      },
      "execution_count": 180,
      "outputs": [
        {
          "output_type": "stream",
          "name": "stdout",
          "text": [
            "<class 'pandas.core.frame.DataFrame'>\n",
            "RangeIndex: 39242 entries, 0 to 39241\n",
            "Columns: 159 entries, user_name to classe\n",
            "dtypes: float64(132), int64(23), object(4)\n",
            "memory usage: 47.6+ MB\n"
          ]
        }
      ]
    },
    {
      "cell_type": "code",
      "source": [
        "df.describe()"
      ],
      "metadata": {
        "colab": {
          "base_uri": "https://localhost:8080/",
          "height": 393
        },
        "id": "z1bJ9R_3QVEz",
        "outputId": "fa63cae3-6079-4696-f405-d47b8180fa20"
      },
      "execution_count": 181,
      "outputs": [
        {
          "output_type": "execute_result",
          "data": {
            "text/plain": [
              "       raw_timestamp_part_1  raw_timestamp_part_2    num_window     roll_belt  \\\n",
              "count          3.924200e+04          39242.000000  39242.000000  39242.000000   \n",
              "mean           1.322827e+09         500708.627465    432.322282     64.928120   \n",
              "std            2.040334e+05         288682.935235    247.966725     62.672987   \n",
              "min            1.322490e+09            280.000000      1.000000    -28.900000   \n",
              "25%            1.322673e+09         252299.500000    222.000000      1.100000   \n",
              "50%            1.322833e+09         498781.500000    428.000000    114.000000   \n",
              "75%            1.323084e+09         752287.750000    647.000000    123.000000   \n",
              "max            1.323095e+09         999091.000000    864.000000    162.000000   \n",
              "\n",
              "         pitch_belt      yaw_belt  total_accel_belt  kurtosis_roll_belt  \\\n",
              "count  39242.000000  39242.000000      39242.000000          807.000000   \n",
              "mean       0.423624    -10.827983         11.378982           -0.181088   \n",
              "std       22.400539     94.982455          7.732219            3.739289   \n",
              "min      -56.200000   -180.000000          0.000000           -3.333333   \n",
              "25%        1.830000    -88.200000          3.000000           -1.346611   \n",
              "50%        5.320000    -11.900000         17.000000           -0.907946   \n",
              "75%       15.500000     12.500000         18.000000           -0.282445   \n",
              "max       60.300000    180.000000         30.000000           50.979819   \n",
              "\n",
              "       kurtosis_picth_belt  kurtosis_yaw_belt  ...  var_yaw_forearm  \\\n",
              "count           767.000000                0.0  ...       839.000000   \n",
              "mean              4.533324                NaN  ...      4702.779079   \n",
              "std              11.328069                NaN  ...      7224.874200   \n",
              "min              -2.210526                NaN  ...         0.000000   \n",
              "25%              -1.079763                NaN  ...         0.251195   \n",
              "50%              -0.021887                NaN  ...       606.510220   \n",
              "75%               4.148419                NaN  ...      7648.713645   \n",
              "max              71.000000                NaN  ...     39009.333330   \n",
              "\n",
              "       gyros_forearm_x  gyros_forearm_y  gyros_forearm_z  accel_forearm_x  \\\n",
              "count     39242.000000     39242.000000     39242.000000     39242.000000   \n",
              "mean          0.146381         0.095838         0.147643       -63.954814   \n",
              "std           1.827178         3.735124         1.337704       180.940999   \n",
              "min        -339.000000        -7.030000       -52.000000      -498.000000   \n",
              "25%          -0.220000        -1.450000        -0.180000      -181.000000   \n",
              "50%           0.050000         0.030000         0.080000       -58.000000   \n",
              "75%           0.560000         1.650000         0.490000        74.000000   \n",
              "max           4.770000       516.000000       231.000000       479.000000   \n",
              "\n",
              "       accel_forearm_y  accel_forearm_z  magnet_forearm_x  magnet_forearm_y  \\\n",
              "count     39242.000000     39242.000000      39242.000000      39242.000000   \n",
              "mean        162.981005       -55.494751       -316.640326        379.762296   \n",
              "std         199.580505       137.692832        345.893844        507.055260   \n",
              "min        -690.000000      -458.000000      -1280.000000       -906.000000   \n",
              "25%          53.000000      -181.000000       -620.000000          8.000000   \n",
              "50%         200.000000       -40.500000       -385.000000        588.000000   \n",
              "75%         312.000000        25.000000        -77.000000        736.000000   \n",
              "max         923.000000       291.000000        672.000000       1480.000000   \n",
              "\n",
              "       magnet_forearm_z  \n",
              "count      39242.000000  \n",
              "mean         395.010309  \n",
              "std          368.098954  \n",
              "min         -973.000000  \n",
              "25%          200.000000  \n",
              "50%          512.000000  \n",
              "75%          652.000000  \n",
              "max         1090.000000  \n",
              "\n",
              "[8 rows x 155 columns]"
            ],
            "text/html": [
              "\n",
              "  <div id=\"df-1627189d-7a56-4091-9199-fa046c419ab3\">\n",
              "    <div class=\"colab-df-container\">\n",
              "      <div>\n",
              "<style scoped>\n",
              "    .dataframe tbody tr th:only-of-type {\n",
              "        vertical-align: middle;\n",
              "    }\n",
              "\n",
              "    .dataframe tbody tr th {\n",
              "        vertical-align: top;\n",
              "    }\n",
              "\n",
              "    .dataframe thead th {\n",
              "        text-align: right;\n",
              "    }\n",
              "</style>\n",
              "<table border=\"1\" class=\"dataframe\">\n",
              "  <thead>\n",
              "    <tr style=\"text-align: right;\">\n",
              "      <th></th>\n",
              "      <th>raw_timestamp_part_1</th>\n",
              "      <th>raw_timestamp_part_2</th>\n",
              "      <th>num_window</th>\n",
              "      <th>roll_belt</th>\n",
              "      <th>pitch_belt</th>\n",
              "      <th>yaw_belt</th>\n",
              "      <th>total_accel_belt</th>\n",
              "      <th>kurtosis_roll_belt</th>\n",
              "      <th>kurtosis_picth_belt</th>\n",
              "      <th>kurtosis_yaw_belt</th>\n",
              "      <th>...</th>\n",
              "      <th>var_yaw_forearm</th>\n",
              "      <th>gyros_forearm_x</th>\n",
              "      <th>gyros_forearm_y</th>\n",
              "      <th>gyros_forearm_z</th>\n",
              "      <th>accel_forearm_x</th>\n",
              "      <th>accel_forearm_y</th>\n",
              "      <th>accel_forearm_z</th>\n",
              "      <th>magnet_forearm_x</th>\n",
              "      <th>magnet_forearm_y</th>\n",
              "      <th>magnet_forearm_z</th>\n",
              "    </tr>\n",
              "  </thead>\n",
              "  <tbody>\n",
              "    <tr>\n",
              "      <th>count</th>\n",
              "      <td>3.924200e+04</td>\n",
              "      <td>39242.000000</td>\n",
              "      <td>39242.000000</td>\n",
              "      <td>39242.000000</td>\n",
              "      <td>39242.000000</td>\n",
              "      <td>39242.000000</td>\n",
              "      <td>39242.000000</td>\n",
              "      <td>807.000000</td>\n",
              "      <td>767.000000</td>\n",
              "      <td>0.0</td>\n",
              "      <td>...</td>\n",
              "      <td>839.000000</td>\n",
              "      <td>39242.000000</td>\n",
              "      <td>39242.000000</td>\n",
              "      <td>39242.000000</td>\n",
              "      <td>39242.000000</td>\n",
              "      <td>39242.000000</td>\n",
              "      <td>39242.000000</td>\n",
              "      <td>39242.000000</td>\n",
              "      <td>39242.000000</td>\n",
              "      <td>39242.000000</td>\n",
              "    </tr>\n",
              "    <tr>\n",
              "      <th>mean</th>\n",
              "      <td>1.322827e+09</td>\n",
              "      <td>500708.627465</td>\n",
              "      <td>432.322282</td>\n",
              "      <td>64.928120</td>\n",
              "      <td>0.423624</td>\n",
              "      <td>-10.827983</td>\n",
              "      <td>11.378982</td>\n",
              "      <td>-0.181088</td>\n",
              "      <td>4.533324</td>\n",
              "      <td>NaN</td>\n",
              "      <td>...</td>\n",
              "      <td>4702.779079</td>\n",
              "      <td>0.146381</td>\n",
              "      <td>0.095838</td>\n",
              "      <td>0.147643</td>\n",
              "      <td>-63.954814</td>\n",
              "      <td>162.981005</td>\n",
              "      <td>-55.494751</td>\n",
              "      <td>-316.640326</td>\n",
              "      <td>379.762296</td>\n",
              "      <td>395.010309</td>\n",
              "    </tr>\n",
              "    <tr>\n",
              "      <th>std</th>\n",
              "      <td>2.040334e+05</td>\n",
              "      <td>288682.935235</td>\n",
              "      <td>247.966725</td>\n",
              "      <td>62.672987</td>\n",
              "      <td>22.400539</td>\n",
              "      <td>94.982455</td>\n",
              "      <td>7.732219</td>\n",
              "      <td>3.739289</td>\n",
              "      <td>11.328069</td>\n",
              "      <td>NaN</td>\n",
              "      <td>...</td>\n",
              "      <td>7224.874200</td>\n",
              "      <td>1.827178</td>\n",
              "      <td>3.735124</td>\n",
              "      <td>1.337704</td>\n",
              "      <td>180.940999</td>\n",
              "      <td>199.580505</td>\n",
              "      <td>137.692832</td>\n",
              "      <td>345.893844</td>\n",
              "      <td>507.055260</td>\n",
              "      <td>368.098954</td>\n",
              "    </tr>\n",
              "    <tr>\n",
              "      <th>min</th>\n",
              "      <td>1.322490e+09</td>\n",
              "      <td>280.000000</td>\n",
              "      <td>1.000000</td>\n",
              "      <td>-28.900000</td>\n",
              "      <td>-56.200000</td>\n",
              "      <td>-180.000000</td>\n",
              "      <td>0.000000</td>\n",
              "      <td>-3.333333</td>\n",
              "      <td>-2.210526</td>\n",
              "      <td>NaN</td>\n",
              "      <td>...</td>\n",
              "      <td>0.000000</td>\n",
              "      <td>-339.000000</td>\n",
              "      <td>-7.030000</td>\n",
              "      <td>-52.000000</td>\n",
              "      <td>-498.000000</td>\n",
              "      <td>-690.000000</td>\n",
              "      <td>-458.000000</td>\n",
              "      <td>-1280.000000</td>\n",
              "      <td>-906.000000</td>\n",
              "      <td>-973.000000</td>\n",
              "    </tr>\n",
              "    <tr>\n",
              "      <th>25%</th>\n",
              "      <td>1.322673e+09</td>\n",
              "      <td>252299.500000</td>\n",
              "      <td>222.000000</td>\n",
              "      <td>1.100000</td>\n",
              "      <td>1.830000</td>\n",
              "      <td>-88.200000</td>\n",
              "      <td>3.000000</td>\n",
              "      <td>-1.346611</td>\n",
              "      <td>-1.079763</td>\n",
              "      <td>NaN</td>\n",
              "      <td>...</td>\n",
              "      <td>0.251195</td>\n",
              "      <td>-0.220000</td>\n",
              "      <td>-1.450000</td>\n",
              "      <td>-0.180000</td>\n",
              "      <td>-181.000000</td>\n",
              "      <td>53.000000</td>\n",
              "      <td>-181.000000</td>\n",
              "      <td>-620.000000</td>\n",
              "      <td>8.000000</td>\n",
              "      <td>200.000000</td>\n",
              "    </tr>\n",
              "    <tr>\n",
              "      <th>50%</th>\n",
              "      <td>1.322833e+09</td>\n",
              "      <td>498781.500000</td>\n",
              "      <td>428.000000</td>\n",
              "      <td>114.000000</td>\n",
              "      <td>5.320000</td>\n",
              "      <td>-11.900000</td>\n",
              "      <td>17.000000</td>\n",
              "      <td>-0.907946</td>\n",
              "      <td>-0.021887</td>\n",
              "      <td>NaN</td>\n",
              "      <td>...</td>\n",
              "      <td>606.510220</td>\n",
              "      <td>0.050000</td>\n",
              "      <td>0.030000</td>\n",
              "      <td>0.080000</td>\n",
              "      <td>-58.000000</td>\n",
              "      <td>200.000000</td>\n",
              "      <td>-40.500000</td>\n",
              "      <td>-385.000000</td>\n",
              "      <td>588.000000</td>\n",
              "      <td>512.000000</td>\n",
              "    </tr>\n",
              "    <tr>\n",
              "      <th>75%</th>\n",
              "      <td>1.323084e+09</td>\n",
              "      <td>752287.750000</td>\n",
              "      <td>647.000000</td>\n",
              "      <td>123.000000</td>\n",
              "      <td>15.500000</td>\n",
              "      <td>12.500000</td>\n",
              "      <td>18.000000</td>\n",
              "      <td>-0.282445</td>\n",
              "      <td>4.148419</td>\n",
              "      <td>NaN</td>\n",
              "      <td>...</td>\n",
              "      <td>7648.713645</td>\n",
              "      <td>0.560000</td>\n",
              "      <td>1.650000</td>\n",
              "      <td>0.490000</td>\n",
              "      <td>74.000000</td>\n",
              "      <td>312.000000</td>\n",
              "      <td>25.000000</td>\n",
              "      <td>-77.000000</td>\n",
              "      <td>736.000000</td>\n",
              "      <td>652.000000</td>\n",
              "    </tr>\n",
              "    <tr>\n",
              "      <th>max</th>\n",
              "      <td>1.323095e+09</td>\n",
              "      <td>999091.000000</td>\n",
              "      <td>864.000000</td>\n",
              "      <td>162.000000</td>\n",
              "      <td>60.300000</td>\n",
              "      <td>180.000000</td>\n",
              "      <td>30.000000</td>\n",
              "      <td>50.979819</td>\n",
              "      <td>71.000000</td>\n",
              "      <td>NaN</td>\n",
              "      <td>...</td>\n",
              "      <td>39009.333330</td>\n",
              "      <td>4.770000</td>\n",
              "      <td>516.000000</td>\n",
              "      <td>231.000000</td>\n",
              "      <td>479.000000</td>\n",
              "      <td>923.000000</td>\n",
              "      <td>291.000000</td>\n",
              "      <td>672.000000</td>\n",
              "      <td>1480.000000</td>\n",
              "      <td>1090.000000</td>\n",
              "    </tr>\n",
              "  </tbody>\n",
              "</table>\n",
              "<p>8 rows × 155 columns</p>\n",
              "</div>\n",
              "      <button class=\"colab-df-convert\" onclick=\"convertToInteractive('df-1627189d-7a56-4091-9199-fa046c419ab3')\"\n",
              "              title=\"Convert this dataframe to an interactive table.\"\n",
              "              style=\"display:none;\">\n",
              "        \n",
              "  <svg xmlns=\"http://www.w3.org/2000/svg\" height=\"24px\"viewBox=\"0 0 24 24\"\n",
              "       width=\"24px\">\n",
              "    <path d=\"M0 0h24v24H0V0z\" fill=\"none\"/>\n",
              "    <path d=\"M18.56 5.44l.94 2.06.94-2.06 2.06-.94-2.06-.94-.94-2.06-.94 2.06-2.06.94zm-11 1L8.5 8.5l.94-2.06 2.06-.94-2.06-.94L8.5 2.5l-.94 2.06-2.06.94zm10 10l.94 2.06.94-2.06 2.06-.94-2.06-.94-.94-2.06-.94 2.06-2.06.94z\"/><path d=\"M17.41 7.96l-1.37-1.37c-.4-.4-.92-.59-1.43-.59-.52 0-1.04.2-1.43.59L10.3 9.45l-7.72 7.72c-.78.78-.78 2.05 0 2.83L4 21.41c.39.39.9.59 1.41.59.51 0 1.02-.2 1.41-.59l7.78-7.78 2.81-2.81c.8-.78.8-2.07 0-2.86zM5.41 20L4 18.59l7.72-7.72 1.47 1.35L5.41 20z\"/>\n",
              "  </svg>\n",
              "      </button>\n",
              "      \n",
              "  <style>\n",
              "    .colab-df-container {\n",
              "      display:flex;\n",
              "      flex-wrap:wrap;\n",
              "      gap: 12px;\n",
              "    }\n",
              "\n",
              "    .colab-df-convert {\n",
              "      background-color: #E8F0FE;\n",
              "      border: none;\n",
              "      border-radius: 50%;\n",
              "      cursor: pointer;\n",
              "      display: none;\n",
              "      fill: #1967D2;\n",
              "      height: 32px;\n",
              "      padding: 0 0 0 0;\n",
              "      width: 32px;\n",
              "    }\n",
              "\n",
              "    .colab-df-convert:hover {\n",
              "      background-color: #E2EBFA;\n",
              "      box-shadow: 0px 1px 2px rgba(60, 64, 67, 0.3), 0px 1px 3px 1px rgba(60, 64, 67, 0.15);\n",
              "      fill: #174EA6;\n",
              "    }\n",
              "\n",
              "    [theme=dark] .colab-df-convert {\n",
              "      background-color: #3B4455;\n",
              "      fill: #D2E3FC;\n",
              "    }\n",
              "\n",
              "    [theme=dark] .colab-df-convert:hover {\n",
              "      background-color: #434B5C;\n",
              "      box-shadow: 0px 1px 3px 1px rgba(0, 0, 0, 0.15);\n",
              "      filter: drop-shadow(0px 1px 2px rgba(0, 0, 0, 0.3));\n",
              "      fill: #FFFFFF;\n",
              "    }\n",
              "  </style>\n",
              "\n",
              "      <script>\n",
              "        const buttonEl =\n",
              "          document.querySelector('#df-1627189d-7a56-4091-9199-fa046c419ab3 button.colab-df-convert');\n",
              "        buttonEl.style.display =\n",
              "          google.colab.kernel.accessAllowed ? 'block' : 'none';\n",
              "\n",
              "        async function convertToInteractive(key) {\n",
              "          const element = document.querySelector('#df-1627189d-7a56-4091-9199-fa046c419ab3');\n",
              "          const dataTable =\n",
              "            await google.colab.kernel.invokeFunction('convertToInteractive',\n",
              "                                                     [key], {});\n",
              "          if (!dataTable) return;\n",
              "\n",
              "          const docLinkHtml = 'Like what you see? Visit the ' +\n",
              "            '<a target=\"_blank\" href=https://colab.research.google.com/notebooks/data_table.ipynb>data table notebook</a>'\n",
              "            + ' to learn more about interactive tables.';\n",
              "          element.innerHTML = '';\n",
              "          dataTable['output_type'] = 'display_data';\n",
              "          await google.colab.output.renderOutput(dataTable, element);\n",
              "          const docLink = document.createElement('div');\n",
              "          docLink.innerHTML = docLinkHtml;\n",
              "          element.appendChild(docLink);\n",
              "        }\n",
              "      </script>\n",
              "    </div>\n",
              "  </div>\n",
              "  "
            ]
          },
          "metadata": {},
          "execution_count": 181
        }
      ]
    },
    {
      "cell_type": "code",
      "source": [
        "# sns.set(rc={'figure.figsize':(20,20)})\n",
        "# sns.heatmap(df.corr())"
      ],
      "metadata": {
        "id": "zRf4uLlRQYtH"
      },
      "execution_count": 182,
      "outputs": []
    },
    {
      "cell_type": "markdown",
      "source": [
        "Data set is imbalanced"
      ],
      "metadata": {
        "id": "DIX4R7GSULdE"
      }
    },
    {
      "cell_type": "code",
      "source": [
        "df.classe.value_counts()"
      ],
      "metadata": {
        "colab": {
          "base_uri": "https://localhost:8080/"
        },
        "id": "dH7LN8oEQkqo",
        "outputId": "b21519dd-82cf-4b3b-9d39-7d7a7cf0a90f"
      },
      "execution_count": 183,
      "outputs": [
        {
          "output_type": "execute_result",
          "data": {
            "text/plain": [
              "A    11159\n",
              "B     7593\n",
              "E     7214\n",
              "C     6844\n",
              "D     6432\n",
              "Name: classe, dtype: int64"
            ]
          },
          "metadata": {},
          "execution_count": 183
        }
      ]
    },
    {
      "cell_type": "code",
      "source": [
        "len(df.num_window.value_counts())"
      ],
      "metadata": {
        "colab": {
          "base_uri": "https://localhost:8080/"
        },
        "id": "uxWYFag7UDjX",
        "outputId": "2d9c7dfe-168c-4fff-ff6e-384bedc93649"
      },
      "execution_count": 184,
      "outputs": [
        {
          "output_type": "execute_result",
          "data": {
            "text/plain": [
              "861"
            ]
          },
          "metadata": {},
          "execution_count": 184
        }
      ]
    },
    {
      "cell_type": "code",
      "source": [
        "sns.set(rc={'figure.figsize':(8,8)})\n",
        "sns.countplot(x=\"classe\", data=df)"
      ],
      "metadata": {
        "colab": {
          "base_uri": "https://localhost:8080/",
          "height": 520
        },
        "id": "iJMwjPqINHkB",
        "outputId": "36ef01b8-e63b-44e1-89d5-a9dd55a213a7"
      },
      "execution_count": 185,
      "outputs": [
        {
          "output_type": "execute_result",
          "data": {
            "text/plain": [
              "<matplotlib.axes._subplots.AxesSubplot at 0x7ff07a0c47d0>"
            ]
          },
          "metadata": {},
          "execution_count": 185
        },
        {
          "output_type": "display_data",
          "data": {
            "text/plain": [
              "<Figure size 576x576 with 1 Axes>"
            ],
            "image/png": "[encoded data removed]"
          },
          "metadata": {}
        }
      ]
    },
    {
      "cell_type": "code",
      "source": [
        "sns.set(rc={'figure.figsize':(8,8)})\n",
        "sns.countplot(x=\"user_name\", data=df)"
      ],
      "metadata": {
        "colab": {
          "base_uri": "https://localhost:8080/",
          "height": 520
        },
        "id": "tF15C8AeNKhD",
        "outputId": "81f38008-89e5-4f68-a62d-606f08bbea2b"
      },
      "execution_count": 186,
      "outputs": [
        {
          "output_type": "execute_result",
          "data": {
            "text/plain": [
              "<matplotlib.axes._subplots.AxesSubplot at 0x7ff07974e610>"
            ]
          },
          "metadata": {},
          "execution_count": 186
        },
        {
          "output_type": "display_data",
          "data": {
            "text/plain": [
              "<Figure size 576x576 with 1 Axes>"
            ],
            "image/png": "[encoded data removed]"
          },
          "metadata": {}
        }
      ]
    },
    {
      "cell_type": "code",
      "source": [
        "sns.set(rc={'figure.figsize':(8,8)})\n",
        "\n",
        "sns.countplot(x=\"user_name\", hue='classe', data=df)"
      ],
      "metadata": {
        "id": "vOho5Eh7VsKT",
        "colab": {
          "base_uri": "https://localhost:8080/",
          "height": 520
        },
        "outputId": "0ea4a7eb-741f-43b0-c625-1f5f5b0d7d54"
      },
      "execution_count": 187,
      "outputs": [
        {
          "output_type": "execute_result",
          "data": {
            "text/plain": [
              "<matplotlib.axes._subplots.AxesSubplot at 0x7ff079496ed0>"
            ]
          },
          "metadata": {},
          "execution_count": 187
        },
        {
          "output_type": "display_data",
          "data": {
            "text/plain": [
              "<Figure size 576x576 with 1 Axes>"
            ],
            "image/png": "[encoded data removed]"
          },
          "metadata": {}
        }
      ]
    },
    {
      "cell_type": "markdown",
      "source": [
        "### Extracting Time Column\n"
      ],
      "metadata": {
        "id": "A84dgDczDJu5"
      }
    },
    {
      "cell_type": "code",
      "source": [
        "df.rename(columns={'skewness_roll_belt.1':'skewness_pitch_belt'}, inplace=True)"
      ],
      "metadata": {
        "id": "R4e2anj2aaIn"
      },
      "execution_count": 188,
      "outputs": []
    },
    {
      "cell_type": "code",
      "source": [
        "df.drop('cvtd_timestamp', axis = 1, inplace=True)"
      ],
      "metadata": {
        "id": "kJkqxKqJEeaQ"
      },
      "execution_count": 189,
      "outputs": []
    },
    {
      "cell_type": "code",
      "source": [
        "print(df['raw_timestamp_part_1'].dtype)\n",
        "print(df['raw_timestamp_part_2'].dtype)"
      ],
      "metadata": {
        "colab": {
          "base_uri": "https://localhost:8080/"
        },
        "id": "ahxqZY4xFFeq",
        "outputId": "6284e463-83ee-4c4b-e14e-75116091af4c"
      },
      "execution_count": 190,
      "outputs": [
        {
          "output_type": "stream",
          "name": "stdout",
          "text": [
            "int64\n",
            "int64\n"
          ]
        }
      ]
    },
    {
      "cell_type": "code",
      "source": [
        "df['raw_timestamp_part_1'] = df['raw_timestamp_part_1'].astype(str)\n",
        "df['raw_timestamp_part_2'] = df['raw_timestamp_part_2'].astype(str)"
      ],
      "metadata": {
        "id": "opa7QqIRcyPB"
      },
      "execution_count": 191,
      "outputs": []
    },
    {
      "cell_type": "code",
      "source": [
        "def concatenate_zero(val):\n",
        "  if len(val) <6:\n",
        "    return val + '0'\n",
        "  else:\n",
        "    return val"
      ],
      "metadata": {
        "id": "BUkmpycrGzN3"
      },
      "execution_count": 192,
      "outputs": []
    },
    {
      "cell_type": "code",
      "source": [
        "df['raw_timestamp_part_2'] = df['raw_timestamp_part_2'].apply(concatenate_zero)"
      ],
      "metadata": {
        "id": "jvXKKjv6G14k"
      },
      "execution_count": 193,
      "outputs": []
    },
    {
      "cell_type": "code",
      "source": [
        "print(df['raw_timestamp_part_1'].dtype)\n",
        "print(df['raw_timestamp_part_2'].dtype)"
      ],
      "metadata": {
        "colab": {
          "base_uri": "https://localhost:8080/"
        },
        "id": "s7rbsd2PFZ1F",
        "outputId": "b35515fc-082d-44fd-d0c5-7f9a0071ca11"
      },
      "execution_count": 194,
      "outputs": [
        {
          "output_type": "stream",
          "name": "stdout",
          "text": [
            "object\n",
            "object\n"
          ]
        }
      ]
    },
    {
      "cell_type": "code",
      "source": [
        "df['raw_timestamp_part_2'].head(10)"
      ],
      "metadata": {
        "colab": {
          "base_uri": "https://localhost:8080/"
        },
        "id": "MUjeqAjwHIS_",
        "outputId": "6a9e885e-cecb-45ec-d177-ec927b35c8d1"
      },
      "execution_count": 195,
      "outputs": [
        {
          "output_type": "execute_result",
          "data": {
            "text/plain": [
              "0    346700\n",
              "1    626410\n",
              "2    706530\n",
              "3    826540\n",
              "4    906370\n",
              "5    170626\n",
              "6    190665\n",
              "7    242723\n",
              "8    267551\n",
              "9    274689\n",
              "Name: raw_timestamp_part_2, dtype: object"
            ]
          },
          "metadata": {},
          "execution_count": 195
        }
      ]
    },
    {
      "cell_type": "code",
      "source": [
        "df[\"Converted Time\"]= df[\"raw_timestamp_part_1\"].str.cat(df['raw_timestamp_part_2'])"
      ],
      "metadata": {
        "id": "svc9VMgKFdHC"
      },
      "execution_count": 196,
      "outputs": []
    },
    {
      "cell_type": "code",
      "source": [
        "df['Converted Time'].head(10)"
      ],
      "metadata": {
        "colab": {
          "base_uri": "https://localhost:8080/"
        },
        "id": "qMUCxu2UGE0Q",
        "outputId": "db391ead-e06f-4258-bd6b-a9f6537590ea"
      },
      "execution_count": 197,
      "outputs": [
        {
          "output_type": "execute_result",
          "data": {
            "text/plain": [
              "0    1322489729346700\n",
              "1    1322489729626410\n",
              "2    1322489729706530\n",
              "3    1322489729826540\n",
              "4    1322489729906370\n",
              "5    1322489729170626\n",
              "6    1322489729190665\n",
              "7    1322489729242723\n",
              "8    1322489729267551\n",
              "9    1322489729274689\n",
              "Name: Converted Time, dtype: object"
            ]
          },
          "metadata": {},
          "execution_count": 197
        }
      ]
    },
    {
      "cell_type": "code",
      "source": [
        "import datetime\n",
        "\n",
        "def convert_unix_epoch(epoch_time):\n",
        "  epoch_time = int(epoch_time)\n",
        "  dt = datetime.datetime.fromtimestamp(epoch_time/1000000)\n",
        "  return dt.strftime(\"%Y-%m-%d %H:%M:%S.%f %p\")+'';"
      ],
      "metadata": {
        "id": "MusOcg9EH0Gy"
      },
      "execution_count": 198,
      "outputs": []
    },
    {
      "cell_type": "code",
      "source": [
        "convert_unix_epoch(1322489729170626)"
      ],
      "metadata": {
        "colab": {
          "base_uri": "https://localhost:8080/",
          "height": 36
        },
        "id": "Vu5hwAjLH2Zp",
        "outputId": "f6ba971f-081c-4ca4-851e-fb9b6ebc2b94"
      },
      "execution_count": 199,
      "outputs": [
        {
          "output_type": "execute_result",
          "data": {
            "text/plain": [
              "'2011-11-28 14:15:29.170626 PM'"
            ],
            "application/vnd.google.colaboratory.intrinsic+json": {
              "type": "string"
            }
          },
          "metadata": {},
          "execution_count": 199
        }
      ]
    },
    {
      "cell_type": "code",
      "source": [
        "df['Converted Time'] = df['Converted Time'].apply(convert_unix_epoch)"
      ],
      "metadata": {
        "id": "uwbUExkVHvuc"
      },
      "execution_count": 200,
      "outputs": []
    },
    {
      "cell_type": "code",
      "source": [
        "df['Converted Time'].iloc[90:100]"
      ],
      "metadata": {
        "colab": {
          "base_uri": "https://localhost:8080/"
        },
        "id": "DOkzHBB6H_SS",
        "outputId": "2ae35915-7b29-4e4e-fbfc-4e48758ee29b"
      },
      "execution_count": 201,
      "outputs": [
        {
          "output_type": "execute_result",
          "data": {
            "text/plain": [
              "90    2011-11-30 17:12:46.228110 PM\n",
              "91    2011-11-30 17:12:46.306380 PM\n",
              "92    2011-12-02 13:35:38.243240 PM\n",
              "93    2011-12-02 13:35:38.243680 PM\n",
              "94    2011-12-02 13:35:38.443900 PM\n",
              "95    2011-12-02 13:35:38.643240 PM\n",
              "96    2011-12-02 13:35:38.643720 PM\n",
              "97    2011-12-02 13:35:38.762940 PM\n",
              "98    2011-12-02 13:35:38.763330 PM\n",
              "99    2011-12-02 13:35:38.883040 PM\n",
              "Name: Converted Time, dtype: object"
            ]
          },
          "metadata": {},
          "execution_count": 201
        }
      ]
    },
    {
      "cell_type": "code",
      "source": [
        "def extract_miliseconds(val):\n",
        "    val = str(val)\n",
        "    return val[17:26]"
      ],
      "metadata": {
        "id": "0UmI6vBDIHNc"
      },
      "execution_count": 202,
      "outputs": []
    },
    {
      "cell_type": "code",
      "source": [
        "df['Converted Seconds'] = df['Converted Time'].apply(extract_miliseconds)"
      ],
      "metadata": {
        "id": "2-fvOdgWK7Ip"
      },
      "execution_count": 203,
      "outputs": []
    },
    {
      "cell_type": "code",
      "source": [
        "df['Converted Seconds'].iloc[10:20]"
      ],
      "metadata": {
        "colab": {
          "base_uri": "https://localhost:8080/"
        },
        "id": "49rFRIL7M31r",
        "outputId": "85ef5a18-e56a-4405-e51a-d8f01ea26876"
      },
      "execution_count": 204,
      "outputs": [
        {
          "output_type": "execute_result",
          "data": {
            "text/plain": [
              "10    29.286648\n",
              "11    29.306662\n",
              "12    29.306720\n",
              "13    29.334711\n",
              "14    29.334829\n",
              "15    29.334850\n",
              "16    29.346636\n",
              "17    29.346676\n",
              "18    29.358632\n",
              "19    29.358670\n",
              "Name: Converted Seconds, dtype: object"
            ]
          },
          "metadata": {},
          "execution_count": 204
        }
      ]
    },
    {
      "cell_type": "code",
      "source": [
        "df['Converted Seconds'].iloc[90:100]"
      ],
      "metadata": {
        "colab": {
          "base_uri": "https://localhost:8080/"
        },
        "id": "VR2-v9UaM8cn",
        "outputId": "16e87d1d-9418-4135-fe63-5da68f3e645e"
      },
      "execution_count": 205,
      "outputs": [
        {
          "output_type": "execute_result",
          "data": {
            "text/plain": [
              "90    46.228110\n",
              "91    46.306380\n",
              "92    38.243240\n",
              "93    38.243680\n",
              "94    38.443900\n",
              "95    38.643240\n",
              "96    38.643720\n",
              "97    38.762940\n",
              "98    38.763330\n",
              "99    38.883040\n",
              "Name: Converted Seconds, dtype: object"
            ]
          },
          "metadata": {},
          "execution_count": 205
        }
      ]
    },
    {
      "cell_type": "markdown",
      "source": [
        "### DO Data Analysis here"
      ],
      "metadata": {
        "id": "gxqT5QFUcKhf"
      }
    },
    {
      "cell_type": "code",
      "source": [
        "df1 = df.copy()"
      ],
      "metadata": {
        "id": "fIWqCGuZRnZP"
      },
      "execution_count": 206,
      "outputs": []
    },
    {
      "cell_type": "code",
      "source": [
        "df1['Converted Seconds']"
      ],
      "metadata": {
        "colab": {
          "base_uri": "https://localhost:8080/"
        },
        "id": "Joog94A8V8z-",
        "outputId": "a4860efa-4ca4-4c9a-fd8c-f790acabb7c8"
      },
      "execution_count": 207,
      "outputs": [
        {
          "output_type": "execute_result",
          "data": {
            "text/plain": [
              "0        29.346700\n",
              "1        29.626410\n",
              "2        29.706530\n",
              "3        29.826540\n",
              "4        29.906370\n",
              "           ...    \n",
              "39237    37.596287\n",
              "39238    37.636283\n",
              "39239    37.672400\n",
              "39240    37.964299\n",
              "39241    37.972293\n",
              "Name: Converted Seconds, Length: 39242, dtype: object"
            ]
          },
          "metadata": {},
          "execution_count": 207
        }
      ]
    },
    {
      "cell_type": "code",
      "source": [
        "df1.drop(['user_name', 'raw_timestamp_part_1', 'raw_timestamp_part_2', 'user_name', 'new_window', 'num_window', 'Converted Seconds', 'Converted Time',\n",
        "          'kurtosis_yaw_belt', 'skewness_yaw_belt', 'kurtosis_yaw_dumbbell', 'skewness_yaw_dumbbell', 'kurtosis_yaw_forearm', 'skewness_yaw_forearm','skewness_pitch_belt',                                                                                                                                                                                                                                                                                                                                                                                                                                                                                                                                                                                                                                                                                                                                                                                                                                                                                                                                                                                                                                                                                                                                                                                                                                                                                                                                                                                                                                                                                                                                                                                                                                                                                                                                                                                                                                                                                                                                                                                                                                                                                                                                                                                                   \n",
        "          'roll_belt','pitch_belt', 'yaw_belt', 'total_accel_belt','gyros_belt_x','gyros_belt_y','gyros_belt_z','accel_belt_x', 'accel_belt_y', 'accel_belt_z','magnet_belt_x', 'magnet_belt_y', 'magnet_belt_z', \n",
        "          'roll_arm', 'pitch_arm', 'yaw_arm', 'total_accel_arm', 'gyros_arm_x', 'gyros_arm_y', 'gyros_arm_z', 'accel_arm_x',   'accel_arm_y',  'accel_arm_z', 'magnet_arm_x', 'magnet_arm_y', 'magnet_arm_z',\n",
        "          'roll_dumbbell', 'pitch_dumbbell', 'yaw_dumbbell', 'total_accel_dumbbell', 'gyros_dumbbell_x', 'gyros_dumbbell_y', 'gyros_dumbbell_z', 'accel_dumbbell_x', 'accel_dumbbell_y', 'accel_dumbbell_z',  'magnet_dumbbell_x', 'magnet_dumbbell_y', 'magnet_dumbbell_z', \n",
        "          'roll_forearm', 'pitch_forearm', 'yaw_forearm', 'total_accel_forearm', 'gyros_forearm_x', 'gyros_forearm_y', 'gyros_forearm_z', 'accel_forearm_x', 'accel_forearm_y', 'accel_forearm_z', 'magnet_forearm_x', 'magnet_forearm_y', 'magnet_forearm_z' ] ,axis=1).columns"
      ],
      "metadata": {
        "colab": {
          "base_uri": "https://localhost:8080/"
        },
        "id": "ApNa3XOeW_zJ",
        "outputId": "db134441-d643-482b-c782-f112d99deb0d"
      },
      "execution_count": 208,
      "outputs": [
        {
          "output_type": "execute_result",
          "data": {
            "text/plain": [
              "Index(['kurtosis_roll_belt', 'kurtosis_picth_belt', 'skewness_roll_belt',\n",
              "       'max_roll_belt', 'max_picth_belt', 'max_yaw_belt', 'min_roll_belt',\n",
              "       'min_pitch_belt', 'min_yaw_belt', 'amplitude_roll_belt',\n",
              "       'amplitude_pitch_belt', 'amplitude_yaw_belt', 'var_total_accel_belt',\n",
              "       'avg_roll_belt', 'stddev_roll_belt', 'var_roll_belt', 'avg_pitch_belt',\n",
              "       'stddev_pitch_belt', 'var_pitch_belt', 'avg_yaw_belt',\n",
              "       'stddev_yaw_belt', 'var_yaw_belt', 'var_accel_arm', 'avg_roll_arm',\n",
              "       'stddev_roll_arm', 'var_roll_arm', 'avg_pitch_arm', 'stddev_pitch_arm',\n",
              "       'var_pitch_arm', 'avg_yaw_arm', 'stddev_yaw_arm', 'var_yaw_arm',\n",
              "       'kurtosis_roll_arm', 'kurtosis_picth_arm', 'kurtosis_yaw_arm',\n",
              "       'skewness_roll_arm', 'skewness_pitch_arm', 'skewness_yaw_arm',\n",
              "       'max_roll_arm', 'max_picth_arm', 'max_yaw_arm', 'min_roll_arm',\n",
              "       'min_pitch_arm', 'min_yaw_arm', 'amplitude_roll_arm',\n",
              "       'amplitude_pitch_arm', 'amplitude_yaw_arm', 'kurtosis_roll_dumbbell',\n",
              "       'kurtosis_picth_dumbbell', 'skewness_roll_dumbbell',\n",
              "       'skewness_pitch_dumbbell', 'max_roll_dumbbell', 'max_picth_dumbbell',\n",
              "       'max_yaw_dumbbell', 'min_roll_dumbbell', 'min_pitch_dumbbell',\n",
              "       'min_yaw_dumbbell', 'amplitude_roll_dumbbell',\n",
              "       'amplitude_pitch_dumbbell', 'amplitude_yaw_dumbbell',\n",
              "       'var_accel_dumbbell', 'avg_roll_dumbbell', 'stddev_roll_dumbbell',\n",
              "       'var_roll_dumbbell', 'avg_pitch_dumbbell', 'stddev_pitch_dumbbell',\n",
              "       'var_pitch_dumbbell', 'avg_yaw_dumbbell', 'stddev_yaw_dumbbell',\n",
              "       'var_yaw_dumbbell', 'kurtosis_roll_forearm', 'kurtosis_picth_forearm',\n",
              "       'skewness_roll_forearm', 'skewness_pitch_forearm', 'max_roll_forearm',\n",
              "       'max_picth_forearm', 'max_yaw_forearm', 'min_roll_forearm',\n",
              "       'min_pitch_forearm', 'min_yaw_forearm', 'amplitude_roll_forearm',\n",
              "       'amplitude_pitch_forearm', 'amplitude_yaw_forearm', 'var_accel_forearm',\n",
              "       'avg_roll_forearm', 'stddev_roll_forearm', 'var_roll_forearm',\n",
              "       'avg_pitch_forearm', 'stddev_pitch_forearm', 'var_pitch_forearm',\n",
              "       'avg_yaw_forearm', 'stddev_yaw_forearm', 'var_yaw_forearm', 'classe'],\n",
              "      dtype='object')"
            ]
          },
          "metadata": {},
          "execution_count": 208
        }
      ]
    },
    {
      "cell_type": "code",
      "source": [
        "print(df1['kurtosis_roll_belt'].nunique())\n",
        "print(df1['num_window'].nunique())\n",
        "print('Number of Empty Values : ', df1['kurtosis_roll_belt'].isnull().sum(axis = 0))\n",
        "print('Number of Empty Values : ', df1['num_window'].isnull().sum(axis = 0))"
      ],
      "metadata": {
        "colab": {
          "base_uri": "https://localhost:8080/"
        },
        "id": "MEqwrCeo5-eW",
        "outputId": "94159a37-ab2a-47fd-db62-b91f45efd949"
      },
      "execution_count": 209,
      "outputs": [
        {
          "output_type": "stream",
          "name": "stdout",
          "text": [
            "791\n",
            "861\n",
            "Number of Empty Values :  38435\n",
            "Number of Empty Values :  0\n"
          ]
        }
      ]
    },
    {
      "cell_type": "code",
      "source": [
        "for i in range(1,865,1):\n",
        "    val = df1[ (df1['new_window'] == 'yes') & (df1['num_window'] == i) ]['kurtosis_roll_belt']\n",
        "    for j in val:\n",
        "      df1.loc[ df1['num_window'] == i , 'kurtosis_roll_belt' ] = j"
      ],
      "metadata": {
        "id": "t1PusQlP533n"
      },
      "execution_count": 210,
      "outputs": []
    },
    {
      "cell_type": "code",
      "source": [
        "print(df1['kurtosis_roll_belt'].nunique())\n",
        "print(df1['num_window'].nunique())\n",
        "print('Number of Empty Values : ', df1['kurtosis_roll_belt'].isnull().sum(axis = 0))\n",
        "print('Number of Empty Values : ', df1['num_window'].isnull().sum(axis = 0))"
      ],
      "metadata": {
        "colab": {
          "base_uri": "https://localhost:8080/"
        },
        "id": "MEedo0Kc6u4i",
        "outputId": "26bad8c3-324f-4a58-90cb-9ff018d6f3e3"
      },
      "execution_count": 211,
      "outputs": [
        {
          "output_type": "stream",
          "name": "stdout",
          "text": [
            "789\n",
            "861\n",
            "Number of Empty Values :  1706\n",
            "Number of Empty Values :  0\n"
          ]
        }
      ]
    },
    {
      "cell_type": "code",
      "source": [
        "for j in df1.drop(['user_name', 'raw_timestamp_part_1', 'raw_timestamp_part_2', 'user_name', 'new_window', 'num_window', 'Converted Seconds', 'Converted Time', \n",
        "          'kurtosis_yaw_belt', 'skewness_yaw_belt', 'kurtosis_yaw_dumbbell', 'skewness_yaw_dumbbell', 'kurtosis_yaw_forearm', 'skewness_yaw_forearm','skewness_pitch_belt',\n",
        "          'roll_belt','pitch_belt', 'yaw_belt', 'total_accel_belt','gyros_belt_x','gyros_belt_y','gyros_belt_z','accel_belt_x', 'accel_belt_y', 'accel_belt_z','magnet_belt_x', 'magnet_belt_y', 'magnet_belt_z', \n",
        "          'roll_arm', 'pitch_arm', 'yaw_arm', 'total_accel_arm', 'gyros_arm_x', 'gyros_arm_y', 'gyros_arm_z', 'accel_arm_x',   'accel_arm_y',  'accel_arm_z', 'magnet_arm_x', 'magnet_arm_y', 'magnet_arm_z',\n",
        "          'roll_dumbbell', 'pitch_dumbbell', 'yaw_dumbbell', 'total_accel_dumbbell', 'gyros_dumbbell_x', 'gyros_dumbbell_y', 'gyros_dumbbell_z', 'accel_dumbbell_x', 'accel_dumbbell_y', 'accel_dumbbell_z',  'magnet_dumbbell_x', 'magnet_dumbbell_y', 'magnet_dumbbell_z', \n",
        "          'roll_forearm', 'pitch_forearm', 'yaw_forearm', 'total_accel_forearm', 'gyros_forearm_x', 'gyros_forearm_y', 'gyros_forearm_z', 'accel_forearm_x', 'accel_forearm_y', 'accel_forearm_z', 'magnet_forearm_x', 'magnet_forearm_y', 'magnet_forearm_z' ] ,axis=1).columns:\n",
        "  for i in range(1,865,1):\n",
        "    val = df1[ (df1['new_window'] == 'yes') & (df1['num_window'] == i) ][j]\n",
        "    for k in val:\n",
        "      df1.loc[(df1['num_window'] == i), j] = k\n"
      ],
      "metadata": {
        "id": "kg3vxy9ONfNj"
      },
      "execution_count": 212,
      "outputs": []
    },
    {
      "cell_type": "code",
      "source": [
        "df2 = df1.copy()"
      ],
      "metadata": {
        "id": "_Sr2d2vgFo0N"
      },
      "execution_count": 213,
      "outputs": []
    },
    {
      "cell_type": "code",
      "source": [
        "print('Column Name', '  No of Missing Values')\n",
        "for i in zip(df2.columns, df2.isna().sum()):\n",
        "  print(i[0], '\\t\\t', i[1])"
      ],
      "metadata": {
        "colab": {
          "base_uri": "https://localhost:8080/"
        },
        "id": "Pv78WJsbp7hj",
        "outputId": "902379d6-097c-4580-bd99-7e38ab06b7ef"
      },
      "execution_count": 214,
      "outputs": [
        {
          "output_type": "stream",
          "name": "stdout",
          "text": [
            "Column Name   No of Missing Values\n",
            "user_name \t\t 0\n",
            "raw_timestamp_part_1 \t\t 0\n",
            "raw_timestamp_part_2 \t\t 0\n",
            "new_window \t\t 0\n",
            "num_window \t\t 0\n",
            "roll_belt \t\t 0\n",
            "pitch_belt \t\t 0\n",
            "yaw_belt \t\t 0\n",
            "total_accel_belt \t\t 0\n",
            "kurtosis_roll_belt \t\t 1706\n",
            "kurtosis_picth_belt \t\t 3556\n",
            "kurtosis_yaw_belt \t\t 39242\n",
            "skewness_roll_belt \t\t 1703\n",
            "skewness_pitch_belt \t\t 38475\n",
            "skewness_yaw_belt \t\t 39242\n",
            "max_roll_belt \t\t 432\n",
            "max_picth_belt \t\t 432\n",
            "max_yaw_belt \t\t 1706\n",
            "min_roll_belt \t\t 432\n",
            "min_pitch_belt \t\t 432\n",
            "min_yaw_belt \t\t 1706\n",
            "amplitude_roll_belt \t\t 432\n",
            "amplitude_pitch_belt \t\t 432\n",
            "amplitude_yaw_belt \t\t 1706\n",
            "var_total_accel_belt \t\t 432\n",
            "avg_roll_belt \t\t 432\n",
            "stddev_roll_belt \t\t 432\n",
            "var_roll_belt \t\t 432\n",
            "avg_pitch_belt \t\t 432\n",
            "stddev_pitch_belt \t\t 432\n",
            "var_pitch_belt \t\t 432\n",
            "avg_yaw_belt \t\t 432\n",
            "stddev_yaw_belt \t\t 432\n",
            "var_yaw_belt \t\t 432\n",
            "gyros_belt_x \t\t 0\n",
            "gyros_belt_y \t\t 0\n",
            "gyros_belt_z \t\t 0\n",
            "accel_belt_x \t\t 0\n",
            "accel_belt_y \t\t 0\n",
            "accel_belt_z \t\t 0\n",
            "magnet_belt_x \t\t 0\n",
            "magnet_belt_y \t\t 0\n",
            "magnet_belt_z \t\t 0\n",
            "roll_arm \t\t 0\n",
            "pitch_arm \t\t 0\n",
            "yaw_arm \t\t 0\n",
            "total_accel_arm \t\t 0\n",
            "var_accel_arm \t\t 432\n",
            "avg_roll_arm \t\t 432\n",
            "stddev_roll_arm \t\t 432\n",
            "var_roll_arm \t\t 432\n",
            "avg_pitch_arm \t\t 432\n",
            "stddev_pitch_arm \t\t 432\n",
            "var_pitch_arm \t\t 432\n",
            "avg_yaw_arm \t\t 432\n",
            "stddev_yaw_arm \t\t 432\n",
            "var_yaw_arm \t\t 432\n",
            "gyros_arm_x \t\t 0\n",
            "gyros_arm_y \t\t 0\n",
            "gyros_arm_z \t\t 0\n",
            "accel_arm_x \t\t 0\n",
            "accel_arm_y \t\t 0\n",
            "accel_arm_z \t\t 0\n",
            "magnet_arm_x \t\t 0\n",
            "magnet_arm_y \t\t 0\n",
            "magnet_arm_z \t\t 0\n",
            "kurtosis_roll_arm \t\t 7254\n",
            "kurtosis_picth_arm \t\t 7504\n",
            "kurtosis_yaw_arm \t\t 1601\n",
            "skewness_roll_arm \t\t 7251\n",
            "skewness_pitch_arm \t\t 7504\n",
            "skewness_yaw_arm \t\t 1601\n",
            "max_roll_arm \t\t 432\n",
            "max_picth_arm \t\t 432\n",
            "max_yaw_arm \t\t 432\n",
            "min_roll_arm \t\t 432\n",
            "min_pitch_arm \t\t 432\n",
            "min_yaw_arm \t\t 432\n",
            "amplitude_roll_arm \t\t 432\n",
            "amplitude_pitch_arm \t\t 432\n",
            "amplitude_yaw_arm \t\t 432\n",
            "roll_dumbbell \t\t 1\n",
            "pitch_dumbbell \t\t 0\n",
            "yaw_dumbbell \t\t 0\n",
            "kurtosis_roll_dumbbell \t\t 732\n",
            "kurtosis_picth_dumbbell \t\t 509\n",
            "kurtosis_yaw_dumbbell \t\t 39242\n",
            "skewness_roll_dumbbell \t\t 729\n",
            "skewness_pitch_dumbbell \t\t 506\n",
            "skewness_yaw_dumbbell \t\t 39242\n",
            "max_roll_dumbbell \t\t 432\n",
            "max_picth_dumbbell \t\t 432\n",
            "max_yaw_dumbbell \t\t 732\n",
            "min_roll_dumbbell \t\t 432\n",
            "min_pitch_dumbbell \t\t 432\n",
            "min_yaw_dumbbell \t\t 732\n",
            "amplitude_roll_dumbbell \t\t 432\n",
            "amplitude_pitch_dumbbell \t\t 432\n",
            "amplitude_yaw_dumbbell \t\t 732\n",
            "total_accel_dumbbell \t\t 0\n",
            "var_accel_dumbbell \t\t 432\n",
            "avg_roll_dumbbell \t\t 432\n",
            "stddev_roll_dumbbell \t\t 432\n",
            "var_roll_dumbbell \t\t 432\n",
            "avg_pitch_dumbbell \t\t 432\n",
            "stddev_pitch_dumbbell \t\t 432\n",
            "var_pitch_dumbbell \t\t 432\n",
            "avg_yaw_dumbbell \t\t 432\n",
            "stddev_yaw_dumbbell \t\t 432\n",
            "var_yaw_dumbbell \t\t 432\n",
            "gyros_dumbbell_x \t\t 0\n",
            "gyros_dumbbell_y \t\t 0\n",
            "gyros_dumbbell_z \t\t 0\n",
            "accel_dumbbell_x \t\t 0\n",
            "accel_dumbbell_y \t\t 0\n",
            "accel_dumbbell_z \t\t 0\n",
            "magnet_dumbbell_x \t\t 0\n",
            "magnet_dumbbell_y \t\t 0\n",
            "magnet_dumbbell_z \t\t 0\n",
            "roll_forearm \t\t 0\n",
            "pitch_forearm \t\t 0\n",
            "yaw_forearm \t\t 0\n",
            "kurtosis_roll_forearm \t\t 8109\n",
            "kurtosis_picth_forearm \t\t 8276\n",
            "kurtosis_yaw_forearm \t\t 39242\n",
            "skewness_roll_forearm \t\t 8106\n",
            "skewness_pitch_forearm \t\t 8276\n",
            "skewness_yaw_forearm \t\t 39242\n",
            "max_roll_forearm \t\t 432\n",
            "max_picth_forearm \t\t 432\n",
            "max_yaw_forearm \t\t 8109\n",
            "min_roll_forearm \t\t 432\n",
            "min_pitch_forearm \t\t 432\n",
            "min_yaw_forearm \t\t 8109\n",
            "amplitude_roll_forearm \t\t 432\n",
            "amplitude_pitch_forearm \t\t 432\n",
            "amplitude_yaw_forearm \t\t 8109\n",
            "total_accel_forearm \t\t 0\n",
            "var_accel_forearm \t\t 432\n",
            "avg_roll_forearm \t\t 432\n",
            "stddev_roll_forearm \t\t 432\n",
            "var_roll_forearm \t\t 432\n",
            "avg_pitch_forearm \t\t 432\n",
            "stddev_pitch_forearm \t\t 432\n",
            "var_pitch_forearm \t\t 432\n",
            "avg_yaw_forearm \t\t 432\n",
            "stddev_yaw_forearm \t\t 432\n",
            "var_yaw_forearm \t\t 432\n",
            "gyros_forearm_x \t\t 0\n",
            "gyros_forearm_y \t\t 0\n",
            "gyros_forearm_z \t\t 0\n",
            "accel_forearm_x \t\t 0\n",
            "accel_forearm_y \t\t 0\n",
            "accel_forearm_z \t\t 0\n",
            "magnet_forearm_x \t\t 0\n",
            "magnet_forearm_y \t\t 0\n",
            "magnet_forearm_z \t\t 0\n",
            "classe \t\t 0\n",
            "Converted Time \t\t 0\n",
            "Converted Seconds \t\t 0\n"
          ]
        }
      ]
    },
    {
      "cell_type": "code",
      "source": [
        "df2[ df2['max_roll_belt'].isna()][['max_roll_belt','num_window','roll_belt']]"
      ],
      "metadata": {
        "colab": {
          "base_uri": "https://localhost:8080/",
          "height": 424
        },
        "id": "WHm26Nwde6_B",
        "outputId": "54e2f4ef-7180-40dc-ee24-19104ddacc91"
      },
      "execution_count": 215,
      "outputs": [
        {
          "output_type": "execute_result",
          "data": {
            "text/plain": [
              "       max_roll_belt  num_window  roll_belt\n",
              "978              NaN          24       0.85\n",
              "979              NaN          24       0.87\n",
              "980              NaN          24       0.85\n",
              "981              NaN          24       0.85\n",
              "982              NaN          24       0.86\n",
              "...              ...         ...        ...\n",
              "36582            NaN         806       0.99\n",
              "36583            NaN         806       1.03\n",
              "38708            NaN         852       1.21\n",
              "38709            NaN         852       1.22\n",
              "38710            NaN         852       1.22\n",
              "\n",
              "[432 rows x 3 columns]"
            ],
            "text/html": [
              "\n",
              "  <div id=\"df-e5d7a37e-e640-49b6-88df-6bae1003f377\">\n",
              "    <div class=\"colab-df-container\">\n",
              "      <div>\n",
              "<style scoped>\n",
              "    .dataframe tbody tr th:only-of-type {\n",
              "        vertical-align: middle;\n",
              "    }\n",
              "\n",
              "    .dataframe tbody tr th {\n",
              "        vertical-align: top;\n",
              "    }\n",
              "\n",
              "    .dataframe thead th {\n",
              "        text-align: right;\n",
              "    }\n",
              "</style>\n",
              "<table border=\"1\" class=\"dataframe\">\n",
              "  <thead>\n",
              "    <tr style=\"text-align: right;\">\n",
              "      <th></th>\n",
              "      <th>max_roll_belt</th>\n",
              "      <th>num_window</th>\n",
              "      <th>roll_belt</th>\n",
              "    </tr>\n",
              "  </thead>\n",
              "  <tbody>\n",
              "    <tr>\n",
              "      <th>978</th>\n",
              "      <td>NaN</td>\n",
              "      <td>24</td>\n",
              "      <td>0.85</td>\n",
              "    </tr>\n",
              "    <tr>\n",
              "      <th>979</th>\n",
              "      <td>NaN</td>\n",
              "      <td>24</td>\n",
              "      <td>0.87</td>\n",
              "    </tr>\n",
              "    <tr>\n",
              "      <th>980</th>\n",
              "      <td>NaN</td>\n",
              "      <td>24</td>\n",
              "      <td>0.85</td>\n",
              "    </tr>\n",
              "    <tr>\n",
              "      <th>981</th>\n",
              "      <td>NaN</td>\n",
              "      <td>24</td>\n",
              "      <td>0.85</td>\n",
              "    </tr>\n",
              "    <tr>\n",
              "      <th>982</th>\n",
              "      <td>NaN</td>\n",
              "      <td>24</td>\n",
              "      <td>0.86</td>\n",
              "    </tr>\n",
              "    <tr>\n",
              "      <th>...</th>\n",
              "      <td>...</td>\n",
              "      <td>...</td>\n",
              "      <td>...</td>\n",
              "    </tr>\n",
              "    <tr>\n",
              "      <th>36582</th>\n",
              "      <td>NaN</td>\n",
              "      <td>806</td>\n",
              "      <td>0.99</td>\n",
              "    </tr>\n",
              "    <tr>\n",
              "      <th>36583</th>\n",
              "      <td>NaN</td>\n",
              "      <td>806</td>\n",
              "      <td>1.03</td>\n",
              "    </tr>\n",
              "    <tr>\n",
              "      <th>38708</th>\n",
              "      <td>NaN</td>\n",
              "      <td>852</td>\n",
              "      <td>1.21</td>\n",
              "    </tr>\n",
              "    <tr>\n",
              "      <th>38709</th>\n",
              "      <td>NaN</td>\n",
              "      <td>852</td>\n",
              "      <td>1.22</td>\n",
              "    </tr>\n",
              "    <tr>\n",
              "      <th>38710</th>\n",
              "      <td>NaN</td>\n",
              "      <td>852</td>\n",
              "      <td>1.22</td>\n",
              "    </tr>\n",
              "  </tbody>\n",
              "</table>\n",
              "<p>432 rows × 3 columns</p>\n",
              "</div>\n",
              "      <button class=\"colab-df-convert\" onclick=\"convertToInteractive('df-e5d7a37e-e640-49b6-88df-6bae1003f377')\"\n",
              "              title=\"Convert this dataframe to an interactive table.\"\n",
              "              style=\"display:none;\">\n",
              "        \n",
              "  <svg xmlns=\"http://www.w3.org/2000/svg\" height=\"24px\"viewBox=\"0 0 24 24\"\n",
              "       width=\"24px\">\n",
              "    <path d=\"M0 0h24v24H0V0z\" fill=\"none\"/>\n",
              "    <path d=\"M18.56 5.44l.94 2.06.94-2.06 2.06-.94-2.06-.94-.94-2.06-.94 2.06-2.06.94zm-11 1L8.5 8.5l.94-2.06 2.06-.94-2.06-.94L8.5 2.5l-.94 2.06-2.06.94zm10 10l.94 2.06.94-2.06 2.06-.94-2.06-.94-.94-2.06-.94 2.06-2.06.94z\"/><path d=\"M17.41 7.96l-1.37-1.37c-.4-.4-.92-.59-1.43-.59-.52 0-1.04.2-1.43.59L10.3 9.45l-7.72 7.72c-.78.78-.78 2.05 0 2.83L4 21.41c.39.39.9.59 1.41.59.51 0 1.02-.2 1.41-.59l7.78-7.78 2.81-2.81c.8-.78.8-2.07 0-2.86zM5.41 20L4 18.59l7.72-7.72 1.47 1.35L5.41 20z\"/>\n",
              "  </svg>\n",
              "      </button>\n",
              "      \n",
              "  <style>\n",
              "    .colab-df-container {\n",
              "      display:flex;\n",
              "      flex-wrap:wrap;\n",
              "      gap: 12px;\n",
              "    }\n",
              "\n",
              "    .colab-df-convert {\n",
              "      background-color: #E8F0FE;\n",
              "      border: none;\n",
              "      border-radius: 50%;\n",
              "      cursor: pointer;\n",
              "      display: none;\n",
              "      fill: #1967D2;\n",
              "      height: 32px;\n",
              "      padding: 0 0 0 0;\n",
              "      width: 32px;\n",
              "    }\n",
              "\n",
              "    .colab-df-convert:hover {\n",
              "      background-color: #E2EBFA;\n",
              "      box-shadow: 0px 1px 2px rgba(60, 64, 67, 0.3), 0px 1px 3px 1px rgba(60, 64, 67, 0.15);\n",
              "      fill: #174EA6;\n",
              "    }\n",
              "\n",
              "    [theme=dark] .colab-df-convert {\n",
              "      background-color: #3B4455;\n",
              "      fill: #D2E3FC;\n",
              "    }\n",
              "\n",
              "    [theme=dark] .colab-df-convert:hover {\n",
              "      background-color: #434B5C;\n",
              "      box-shadow: 0px 1px 3px 1px rgba(0, 0, 0, 0.15);\n",
              "      filter: drop-shadow(0px 1px 2px rgba(0, 0, 0, 0.3));\n",
              "      fill: #FFFFFF;\n",
              "    }\n",
              "  </style>\n",
              "\n",
              "      <script>\n",
              "        const buttonEl =\n",
              "          document.querySelector('#df-e5d7a37e-e640-49b6-88df-6bae1003f377 button.colab-df-convert');\n",
              "        buttonEl.style.display =\n",
              "          google.colab.kernel.accessAllowed ? 'block' : 'none';\n",
              "\n",
              "        async function convertToInteractive(key) {\n",
              "          const element = document.querySelector('#df-e5d7a37e-e640-49b6-88df-6bae1003f377');\n",
              "          const dataTable =\n",
              "            await google.colab.kernel.invokeFunction('convertToInteractive',\n",
              "                                                     [key], {});\n",
              "          if (!dataTable) return;\n",
              "\n",
              "          const docLinkHtml = 'Like what you see? Visit the ' +\n",
              "            '<a target=\"_blank\" href=https://colab.research.google.com/notebooks/data_table.ipynb>data table notebook</a>'\n",
              "            + ' to learn more about interactive tables.';\n",
              "          element.innerHTML = '';\n",
              "          dataTable['output_type'] = 'display_data';\n",
              "          await google.colab.output.renderOutput(dataTable, element);\n",
              "          const docLink = document.createElement('div');\n",
              "          docLink.innerHTML = docLinkHtml;\n",
              "          element.appendChild(docLink);\n",
              "        }\n",
              "      </script>\n",
              "    </div>\n",
              "  </div>\n",
              "  "
            ]
          },
          "metadata": {},
          "execution_count": 215
        }
      ]
    },
    {
      "cell_type": "code",
      "source": [
        "for i in df2[df2['max_roll_belt'].isna()]['num_window'].unique():\n",
        "  max_val = df2[(df2['num_window'] == i)]['roll_belt'].max()\n",
        "  df2.loc[ (df2['num_window'] == i) ,'max_roll_belt' ] = max_val"
      ],
      "metadata": {
        "id": "5R_QZmXVlpin"
      },
      "execution_count": 216,
      "outputs": []
    },
    {
      "cell_type": "code",
      "source": [
        "df2[ df2['max_roll_belt'].isna()][['max_roll_belt','num_window','roll_belt']]"
      ],
      "metadata": {
        "colab": {
          "base_uri": "https://localhost:8080/",
          "height": 49
        },
        "id": "x3c19o-noQGu",
        "outputId": "3790db34-4a8e-4124-8d4b-bb6b2078af94"
      },
      "execution_count": 217,
      "outputs": [
        {
          "output_type": "execute_result",
          "data": {
            "text/plain": [
              "Empty DataFrame\n",
              "Columns: [max_roll_belt, num_window, roll_belt]\n",
              "Index: []"
            ],
            "text/html": [
              "\n",
              "  <div id=\"df-75a15f2b-1598-405d-b29f-63db3fbff59c\">\n",
              "    <div class=\"colab-df-container\">\n",
              "      <div>\n",
              "<style scoped>\n",
              "    .dataframe tbody tr th:only-of-type {\n",
              "        vertical-align: middle;\n",
              "    }\n",
              "\n",
              "    .dataframe tbody tr th {\n",
              "        vertical-align: top;\n",
              "    }\n",
              "\n",
              "    .dataframe thead th {\n",
              "        text-align: right;\n",
              "    }\n",
              "</style>\n",
              "<table border=\"1\" class=\"dataframe\">\n",
              "  <thead>\n",
              "    <tr style=\"text-align: right;\">\n",
              "      <th></th>\n",
              "      <th>max_roll_belt</th>\n",
              "      <th>num_window</th>\n",
              "      <th>roll_belt</th>\n",
              "    </tr>\n",
              "  </thead>\n",
              "  <tbody>\n",
              "  </tbody>\n",
              "</table>\n",
              "</div>\n",
              "      <button class=\"colab-df-convert\" onclick=\"convertToInteractive('df-75a15f2b-1598-405d-b29f-63db3fbff59c')\"\n",
              "              title=\"Convert this dataframe to an interactive table.\"\n",
              "              style=\"display:none;\">\n",
              "        \n",
              "  <svg xmlns=\"http://www.w3.org/2000/svg\" height=\"24px\"viewBox=\"0 0 24 24\"\n",
              "       width=\"24px\">\n",
              "    <path d=\"M0 0h24v24H0V0z\" fill=\"none\"/>\n",
              "    <path d=\"M18.56 5.44l.94 2.06.94-2.06 2.06-.94-2.06-.94-.94-2.06-.94 2.06-2.06.94zm-11 1L8.5 8.5l.94-2.06 2.06-.94-2.06-.94L8.5 2.5l-.94 2.06-2.06.94zm10 10l.94 2.06.94-2.06 2.06-.94-2.06-.94-.94-2.06-.94 2.06-2.06.94z\"/><path d=\"M17.41 7.96l-1.37-1.37c-.4-.4-.92-.59-1.43-.59-.52 0-1.04.2-1.43.59L10.3 9.45l-7.72 7.72c-.78.78-.78 2.05 0 2.83L4 21.41c.39.39.9.59 1.41.59.51 0 1.02-.2 1.41-.59l7.78-7.78 2.81-2.81c.8-.78.8-2.07 0-2.86zM5.41 20L4 18.59l7.72-7.72 1.47 1.35L5.41 20z\"/>\n",
              "  </svg>\n",
              "      </button>\n",
              "      \n",
              "  <style>\n",
              "    .colab-df-container {\n",
              "      display:flex;\n",
              "      flex-wrap:wrap;\n",
              "      gap: 12px;\n",
              "    }\n",
              "\n",
              "    .colab-df-convert {\n",
              "      background-color: #E8F0FE;\n",
              "      border: none;\n",
              "      border-radius: 50%;\n",
              "      cursor: pointer;\n",
              "      display: none;\n",
              "      fill: #1967D2;\n",
              "      height: 32px;\n",
              "      padding: 0 0 0 0;\n",
              "      width: 32px;\n",
              "    }\n",
              "\n",
              "    .colab-df-convert:hover {\n",
              "      background-color: #E2EBFA;\n",
              "      box-shadow: 0px 1px 2px rgba(60, 64, 67, 0.3), 0px 1px 3px 1px rgba(60, 64, 67, 0.15);\n",
              "      fill: #174EA6;\n",
              "    }\n",
              "\n",
              "    [theme=dark] .colab-df-convert {\n",
              "      background-color: #3B4455;\n",
              "      fill: #D2E3FC;\n",
              "    }\n",
              "\n",
              "    [theme=dark] .colab-df-convert:hover {\n",
              "      background-color: #434B5C;\n",
              "      box-shadow: 0px 1px 3px 1px rgba(0, 0, 0, 0.15);\n",
              "      filter: drop-shadow(0px 1px 2px rgba(0, 0, 0, 0.3));\n",
              "      fill: #FFFFFF;\n",
              "    }\n",
              "  </style>\n",
              "\n",
              "      <script>\n",
              "        const buttonEl =\n",
              "          document.querySelector('#df-75a15f2b-1598-405d-b29f-63db3fbff59c button.colab-df-convert');\n",
              "        buttonEl.style.display =\n",
              "          google.colab.kernel.accessAllowed ? 'block' : 'none';\n",
              "\n",
              "        async function convertToInteractive(key) {\n",
              "          const element = document.querySelector('#df-75a15f2b-1598-405d-b29f-63db3fbff59c');\n",
              "          const dataTable =\n",
              "            await google.colab.kernel.invokeFunction('convertToInteractive',\n",
              "                                                     [key], {});\n",
              "          if (!dataTable) return;\n",
              "\n",
              "          const docLinkHtml = 'Like what you see? Visit the ' +\n",
              "            '<a target=\"_blank\" href=https://colab.research.google.com/notebooks/data_table.ipynb>data table notebook</a>'\n",
              "            + ' to learn more about interactive tables.';\n",
              "          element.innerHTML = '';\n",
              "          dataTable['output_type'] = 'display_data';\n",
              "          await google.colab.output.renderOutput(dataTable, element);\n",
              "          const docLink = document.createElement('div');\n",
              "          docLink.innerHTML = docLinkHtml;\n",
              "          element.appendChild(docLink);\n",
              "        }\n",
              "      </script>\n",
              "    </div>\n",
              "  </div>\n",
              "  "
            ]
          },
          "metadata": {},
          "execution_count": 217
        }
      ]
    },
    {
      "cell_type": "code",
      "source": [
        "empty_max_cols = ['max_roll_belt', 'max_picth_belt',  'max_yaw_belt', \n",
        "            'max_roll_arm', 'max_picth_arm', 'max_yaw_arm', \n",
        "            'max_roll_dumbbell', 'max_picth_dumbbell', 'max_yaw_dumbbell',\n",
        "            'max_roll_forearm', 'max_picth_forearm', 'max_yaw_forearm'\n",
        "            ]\n",
        "\n",
        "empty_min_cols = ['min_roll_belt', 'min_pitch_belt',  'min_yaw_belt', \n",
        "            'min_roll_arm', 'min_pitch_arm', 'min_yaw_arm', \n",
        "            'min_roll_dumbbell', 'min_pitch_dumbbell', 'min_yaw_dumbbell',\n",
        "            'min_roll_forearm', 'min_pitch_forearm', 'min_yaw_forearm'\n",
        "            ]\n",
        "\n",
        "empty_avg_cols = ['avg_roll_belt', 'avg_pitch_belt',  'avg_yaw_belt', \n",
        "            'avg_roll_arm', 'avg_pitch_arm', 'avg_yaw_arm', \n",
        "            'avg_roll_dumbbell', 'avg_pitch_dumbbell', 'avg_yaw_dumbbell',\n",
        "            'avg_roll_forearm', 'avg_pitch_forearm', 'avg_yaw_forearm'\n",
        "            ]\n",
        "\n",
        "empty_var_cols = ['var_roll_belt', 'var_pitch_belt',  'var_yaw_belt', \n",
        "            'var_roll_arm', 'var_pitch_arm', 'var_yaw_arm', \n",
        "            'var_roll_dumbbell', 'var_pitch_dumbbell', 'var_yaw_dumbbell',\n",
        "            'var_roll_forearm', 'var_pitch_forearm', 'var_yaw_forearm'\n",
        "            ]\n",
        "\n",
        "empty_std_cols = ['stddev_roll_belt', 'stddev_pitch_belt',  'stddev_yaw_belt', \n",
        "            'stddev_roll_arm', 'stddev_pitch_arm', 'stddev_yaw_arm', \n",
        "            'stddev_roll_dumbbell', 'stddev_pitch_dumbbell', 'stddev_yaw_dumbbell',\n",
        "            'stddev_roll_forearm', 'stddev_pitch_forearm', 'stddev_yaw_forearm'\n",
        "            ]\n",
        "\n",
        "empty_kurtosis_cols = ['kurtosis_roll_belt', 'kurtosis_pitch_belt',  'kurtosis_yaw_belt', \n",
        "            'kurtosis_roll_arm', 'kurtosis_pitch_arm', 'kurtosis_yaw_arm', \n",
        "            'kurtosis_roll_dumbbell', 'kurtosis_pitch_dumbbell', 'kurtosis_yaw_dumbbell',\n",
        "            'kurtosis_roll_forearm', 'kurtosis_pitch_forearm', 'kurtosis_yaw_forearm'\n",
        "            ]   \n",
        "\n",
        "\n",
        "empty_kurtosis_cols = ['kurtosis_roll_belt', 'kurtosis_picth_belt',  'kurtosis_yaw_belt', \n",
        "            'kurtosis_roll_arm', 'kurtosis_picth_arm', 'kurtosis_yaw_arm', \n",
        "            'kurtosis_roll_dumbbell', 'kurtosis_picth_dumbbell', 'kurtosis_yaw_dumbbell',\n",
        "            'kurtosis_roll_forearm', 'kurtosis_picth_forearm', 'kurtosis_yaw_forearm'\n",
        "            ]\n",
        "\n",
        "empty_skew_cols = ['skewness_roll_belt', 'skewness_pitch_belt',  'skewness_yaw_belt', \n",
        "            'skewness_roll_arm', 'skewness_pitch_arm', 'skewness_yaw_arm', \n",
        "            'skewness_roll_dumbbell', 'skewness_pitch_dumbbell', 'skewness_yaw_dumbbell',\n",
        "            'skewness_roll_forearm', 'skewness_pitch_forearm', 'skewness_yaw_forearm'\n",
        "            ]   \n",
        "\n",
        "\n",
        "attributes = [\n",
        "              'roll_belt','pitch_belt','yaw_belt',\n",
        "              'roll_arm', 'pitch_arm', 'yaw_arm',\n",
        "              'roll_dumbbell', 'pitch_dumbbell', 'yaw_dumbbell',\n",
        "              'roll_forearm', 'pitch_forearm', 'yaw_forearm',\n",
        "              ]"
      ],
      "metadata": {
        "id": "RUnZo8O3383K"
      },
      "execution_count": 218,
      "outputs": []
    },
    {
      "cell_type": "code",
      "source": [
        "for j in zip(empty_max_cols, attributes):\n",
        "  for i in df2[df2[j[0]].isna()]['num_window'].unique():\n",
        "    max_val = df2[(df2['num_window'] == i)][j[1]].max()\n",
        "    df2.loc[ (df2['num_window'] == i) ,j[0] ] = max_val"
      ],
      "metadata": {
        "id": "0xM60_54FKu2"
      },
      "execution_count": 219,
      "outputs": []
    },
    {
      "cell_type": "code",
      "source": [
        "for j in zip(empty_min_cols, attributes):\n",
        "  for i in df2[df2[j[0]].isna()]['num_window'].unique():\n",
        "    min_val = df2[(df2['num_window'] == i)][j[1]].min()\n",
        "    df2.loc[ (df2['num_window'] == i) ,j[0] ] = min_val"
      ],
      "metadata": {
        "id": "DXg2QoV_F8hD"
      },
      "execution_count": 220,
      "outputs": []
    },
    {
      "cell_type": "code",
      "source": [
        "for j in zip(empty_avg_cols, attributes):\n",
        "  for i in df2[df2[j[0]].isna()]['num_window'].unique():\n",
        "    mean_val = df2[(df2['num_window'] == i)][j[1]].mean()\n",
        "    df2.loc[ (df2['num_window'] == i) ,j[0] ] = mean_val"
      ],
      "metadata": {
        "id": "HCXC22BVMaak"
      },
      "execution_count": 221,
      "outputs": []
    },
    {
      "cell_type": "code",
      "source": [
        "for j in zip(empty_var_cols, attributes):\n",
        "  for i in df2[df2[j[0]].isna()]['num_window'].unique():\n",
        "    var_val = df2[(df2['num_window'] == i)][j[1]].var()\n",
        "    df2.loc[ (df2['num_window'] == i) ,j[0] ] = var_val"
      ],
      "metadata": {
        "id": "Ge5FzFZqhXbK"
      },
      "execution_count": 222,
      "outputs": []
    },
    {
      "cell_type": "code",
      "source": [
        "for j in zip(empty_std_cols, attributes):\n",
        "  for i in df2[df2[j[0]].isna()]['num_window'].unique():\n",
        "    std_val = df2[(df2['num_window'] == i)][j[1]].std()\n",
        "    df2.loc[ (df2['num_window'] == i) ,j[0] ] = std_val"
      ],
      "metadata": {
        "id": "97BX5sjhl2BA"
      },
      "execution_count": 223,
      "outputs": []
    },
    {
      "cell_type": "code",
      "source": [
        "for j in zip(empty_kurtosis_cols, attributes):\n",
        "  for i in df2[df2[j[0]].isna()]['num_window'].unique():\n",
        "    std_val = df2[(df2['num_window'] == i)][j[1]].kurtosis()\n",
        "    df2.loc[ (df2['num_window'] == i) ,j[0] ] = std_val"
      ],
      "metadata": {
        "id": "SMYPwLuKV2Sy"
      },
      "execution_count": 224,
      "outputs": []
    },
    {
      "cell_type": "code",
      "source": [
        "for j in zip(empty_skew_cols, attributes):\n",
        "  for i in df2[df2[j[0]].isna()]['num_window'].unique():\n",
        "    std_val = df2[(df2['num_window'] == i)][j[1]].skew()\n",
        "    df2.loc[ (df2['num_window'] == i) ,j[0] ] = std_val"
      ],
      "metadata": {
        "id": "hTmxPtfoYMpq"
      },
      "execution_count": 225,
      "outputs": []
    },
    {
      "cell_type": "code",
      "source": [
        "print('Column Name', '  No of Missing Values\\n')\n",
        "for i in zip(df2.columns, df2.isna().sum()):\n",
        "  print(i[0], '\\t\\t', i[1])"
      ],
      "metadata": {
        "colab": {
          "base_uri": "https://localhost:8080/"
        },
        "id": "m3sYsbpGFDFv",
        "outputId": "75ed83db-db21-40b2-d670-2fa8b4032140"
      },
      "execution_count": 226,
      "outputs": [
        {
          "output_type": "stream",
          "name": "stdout",
          "text": [
            "Column Name   No of Missing Values\n",
            "\n",
            "user_name \t\t 0\n",
            "raw_timestamp_part_1 \t\t 0\n",
            "raw_timestamp_part_2 \t\t 0\n",
            "new_window \t\t 0\n",
            "num_window \t\t 0\n",
            "roll_belt \t\t 0\n",
            "pitch_belt \t\t 0\n",
            "yaw_belt \t\t 0\n",
            "total_accel_belt \t\t 0\n",
            "kurtosis_roll_belt \t\t 12\n",
            "kurtosis_picth_belt \t\t 12\n",
            "kurtosis_yaw_belt \t\t 12\n",
            "skewness_roll_belt \t\t 6\n",
            "skewness_pitch_belt \t\t 6\n",
            "skewness_yaw_belt \t\t 6\n",
            "max_roll_belt \t\t 0\n",
            "max_picth_belt \t\t 0\n",
            "max_yaw_belt \t\t 0\n",
            "min_roll_belt \t\t 0\n",
            "min_pitch_belt \t\t 0\n",
            "min_yaw_belt \t\t 0\n",
            "amplitude_roll_belt \t\t 432\n",
            "amplitude_pitch_belt \t\t 432\n",
            "amplitude_yaw_belt \t\t 1706\n",
            "var_total_accel_belt \t\t 432\n",
            "avg_roll_belt \t\t 0\n",
            "stddev_roll_belt \t\t 2\n",
            "var_roll_belt \t\t 2\n",
            "avg_pitch_belt \t\t 0\n",
            "stddev_pitch_belt \t\t 2\n",
            "var_pitch_belt \t\t 2\n",
            "avg_yaw_belt \t\t 0\n",
            "stddev_yaw_belt \t\t 2\n",
            "var_yaw_belt \t\t 2\n",
            "gyros_belt_x \t\t 0\n",
            "gyros_belt_y \t\t 0\n",
            "gyros_belt_z \t\t 0\n",
            "accel_belt_x \t\t 0\n",
            "accel_belt_y \t\t 0\n",
            "accel_belt_z \t\t 0\n",
            "magnet_belt_x \t\t 0\n",
            "magnet_belt_y \t\t 0\n",
            "magnet_belt_z \t\t 0\n",
            "roll_arm \t\t 0\n",
            "pitch_arm \t\t 0\n",
            "yaw_arm \t\t 0\n",
            "total_accel_arm \t\t 0\n",
            "var_accel_arm \t\t 432\n",
            "avg_roll_arm \t\t 0\n",
            "stddev_roll_arm \t\t 2\n",
            "var_roll_arm \t\t 2\n",
            "avg_pitch_arm \t\t 0\n",
            "stddev_pitch_arm \t\t 2\n",
            "var_pitch_arm \t\t 2\n",
            "avg_yaw_arm \t\t 0\n",
            "stddev_yaw_arm \t\t 2\n",
            "var_yaw_arm \t\t 2\n",
            "gyros_arm_x \t\t 0\n",
            "gyros_arm_y \t\t 0\n",
            "gyros_arm_z \t\t 0\n",
            "accel_arm_x \t\t 0\n",
            "accel_arm_y \t\t 0\n",
            "accel_arm_z \t\t 0\n",
            "magnet_arm_x \t\t 0\n",
            "magnet_arm_y \t\t 0\n",
            "magnet_arm_z \t\t 0\n",
            "kurtosis_roll_arm \t\t 12\n",
            "kurtosis_picth_arm \t\t 12\n",
            "kurtosis_yaw_arm \t\t 12\n",
            "skewness_roll_arm \t\t 6\n",
            "skewness_pitch_arm \t\t 6\n",
            "skewness_yaw_arm \t\t 6\n",
            "max_roll_arm \t\t 0\n",
            "max_picth_arm \t\t 0\n",
            "max_yaw_arm \t\t 0\n",
            "min_roll_arm \t\t 0\n",
            "min_pitch_arm \t\t 0\n",
            "min_yaw_arm \t\t 0\n",
            "amplitude_roll_arm \t\t 432\n",
            "amplitude_pitch_arm \t\t 432\n",
            "amplitude_yaw_arm \t\t 432\n",
            "roll_dumbbell \t\t 1\n",
            "pitch_dumbbell \t\t 0\n",
            "yaw_dumbbell \t\t 0\n",
            "kurtosis_roll_dumbbell \t\t 12\n",
            "kurtosis_picth_dumbbell \t\t 12\n",
            "kurtosis_yaw_dumbbell \t\t 12\n",
            "skewness_roll_dumbbell \t\t 6\n",
            "skewness_pitch_dumbbell \t\t 6\n",
            "skewness_yaw_dumbbell \t\t 6\n",
            "max_roll_dumbbell \t\t 0\n",
            "max_picth_dumbbell \t\t 0\n",
            "max_yaw_dumbbell \t\t 0\n",
            "min_roll_dumbbell \t\t 0\n",
            "min_pitch_dumbbell \t\t 0\n",
            "min_yaw_dumbbell \t\t 0\n",
            "amplitude_roll_dumbbell \t\t 432\n",
            "amplitude_pitch_dumbbell \t\t 432\n",
            "amplitude_yaw_dumbbell \t\t 732\n",
            "total_accel_dumbbell \t\t 0\n",
            "var_accel_dumbbell \t\t 432\n",
            "avg_roll_dumbbell \t\t 0\n",
            "stddev_roll_dumbbell \t\t 2\n",
            "var_roll_dumbbell \t\t 2\n",
            "avg_pitch_dumbbell \t\t 0\n",
            "stddev_pitch_dumbbell \t\t 2\n",
            "var_pitch_dumbbell \t\t 2\n",
            "avg_yaw_dumbbell \t\t 0\n",
            "stddev_yaw_dumbbell \t\t 2\n",
            "var_yaw_dumbbell \t\t 2\n",
            "gyros_dumbbell_x \t\t 0\n",
            "gyros_dumbbell_y \t\t 0\n",
            "gyros_dumbbell_z \t\t 0\n",
            "accel_dumbbell_x \t\t 0\n",
            "accel_dumbbell_y \t\t 0\n",
            "accel_dumbbell_z \t\t 0\n",
            "magnet_dumbbell_x \t\t 0\n",
            "magnet_dumbbell_y \t\t 0\n",
            "magnet_dumbbell_z \t\t 0\n",
            "roll_forearm \t\t 0\n",
            "pitch_forearm \t\t 0\n",
            "yaw_forearm \t\t 0\n",
            "kurtosis_roll_forearm \t\t 12\n",
            "kurtosis_picth_forearm \t\t 12\n",
            "kurtosis_yaw_forearm \t\t 12\n",
            "skewness_roll_forearm \t\t 6\n",
            "skewness_pitch_forearm \t\t 6\n",
            "skewness_yaw_forearm \t\t 6\n",
            "max_roll_forearm \t\t 0\n",
            "max_picth_forearm \t\t 0\n",
            "max_yaw_forearm \t\t 0\n",
            "min_roll_forearm \t\t 0\n",
            "min_pitch_forearm \t\t 0\n",
            "min_yaw_forearm \t\t 0\n",
            "amplitude_roll_forearm \t\t 432\n",
            "amplitude_pitch_forearm \t\t 432\n",
            "amplitude_yaw_forearm \t\t 8109\n",
            "total_accel_forearm \t\t 0\n",
            "var_accel_forearm \t\t 432\n",
            "avg_roll_forearm \t\t 0\n",
            "stddev_roll_forearm \t\t 2\n",
            "var_roll_forearm \t\t 2\n",
            "avg_pitch_forearm \t\t 0\n",
            "stddev_pitch_forearm \t\t 2\n",
            "var_pitch_forearm \t\t 2\n",
            "avg_yaw_forearm \t\t 0\n",
            "stddev_yaw_forearm \t\t 2\n",
            "var_yaw_forearm \t\t 2\n",
            "gyros_forearm_x \t\t 0\n",
            "gyros_forearm_y \t\t 0\n",
            "gyros_forearm_z \t\t 0\n",
            "accel_forearm_x \t\t 0\n",
            "accel_forearm_y \t\t 0\n",
            "accel_forearm_z \t\t 0\n",
            "magnet_forearm_x \t\t 0\n",
            "magnet_forearm_y \t\t 0\n",
            "magnet_forearm_z \t\t 0\n",
            "classe \t\t 0\n",
            "Converted Time \t\t 0\n",
            "Converted Seconds \t\t 0\n"
          ]
        }
      ]
    },
    {
      "cell_type": "code",
      "source": [
        "df1.to_csv('Preprocessed_Exercise.csv')"
      ],
      "metadata": {
        "id": "mwMZ9xMhNfP9"
      },
      "execution_count": 227,
      "outputs": []
    },
    {
      "cell_type": "markdown",
      "source": [
        "# Read Data"
      ],
      "metadata": {
        "id": "dkJY-uXb39hY"
      }
    },
    {
      "cell_type": "code",
      "source": [
        "df1 = pd.read_csv('Preprocessed_Exercise.csv')"
      ],
      "metadata": {
        "id": "J4jdCsnA3_4D"
      },
      "execution_count": 228,
      "outputs": []
    },
    {
      "cell_type": "markdown",
      "source": [
        "## Preparing for machine learning model"
      ],
      "metadata": {
        "id": "ALeSC0AKaDW7"
      }
    },
    {
      "cell_type": "code",
      "source": [
        "#removing as empty isn't needed by ML models\n",
        "#df1.drop(['Converted Time', 'Converted Seconds', 'raw_timestamp_part_1', 'raw_timestamp_part_2', 'user_name', 'new_window', 'num_window'] ,axis=1, inplace = True)"
      ],
      "metadata": {
        "id": "X8c6HUGfaDCC"
      },
      "execution_count": 229,
      "outputs": []
    },
    {
      "cell_type": "code",
      "source": [
        "from matplotlib.figure import Figure"
      ],
      "metadata": {
        "id": "ghgd30HN5Ywy"
      },
      "execution_count": 230,
      "outputs": []
    },
    {
      "cell_type": "code",
      "source": [
        "classes = ['A', 'B', 'C', 'D', 'E']\n",
        "windows = [12, 80, 90, 294, 1]\n",
        "\n",
        "fig = plt.subplots(figsize = (30, 4))\n",
        "\n",
        "count = 1\n",
        "for i in zip(classes,windows):\n",
        "  plt.subplot(1, 5, count)\n",
        "  plt.plot(df1[ (df1['classe'] == i[0]) & (df1['num_window'] == i[1]) ]['Converted Time'],\n",
        "      df1[ (df1['classe'] == i[0]) & (df1['num_window'] == i[1]) ]['pitch_belt'])\n",
        "  s = \"Pitch Belt vs Time For class \" +  i[0]\n",
        "  plt.title(s)  \n",
        "  count += 1  \n",
        "\n",
        "plt.show()"
      ],
      "metadata": {
        "colab": {
          "base_uri": "https://localhost:8080/",
          "height": 203
        },
        "id": "3bQNCuFY44Rx",
        "outputId": "d5030035-6683-4f9f-a27b-7cee7777f166"
      },
      "execution_count": 231,
      "outputs": [
        {
          "output_type": "display_data",
          "data": {
            "text/plain": [
              "<Figure size 2160x288 with 5 Axes>"
            ],
            "image/png": "[encoded data removed]"
          },
          "metadata": {}
        }
      ]
    }
  ]
}